{
 "cells": [
  {
   "cell_type": "markdown",
   "id": "f02da7be",
   "metadata": {},
   "source": [
    "# Regression-Prediction of Stores Sales"
   ]
  },
  {
   "cell_type": "code",
   "execution_count": 1,
   "id": "f939b39f",
   "metadata": {},
   "outputs": [],
   "source": [
    "#Importing Required Libraries\n",
    "\n",
    "import numpy as np\n",
    "import pandas as pd\n",
    "import seaborn as sns\n",
    "import matplotlib.pyplot as plt\n",
    "\n",
    "from sklearn.linear_model import LinearRegression\n",
    "from sklearn.model_selection import train_test_split\n",
    "from sklearn.metrics import mean_squared_error\n",
    "from sklearn.metrics import mean_absolute_error\n",
    "from sklearn.metrics import accuracy_score \n",
    "import warnings\n",
    "warnings.filterwarnings('ignore')"
   ]
  },
  {
   "cell_type": "code",
   "execution_count": 2,
   "id": "3ed2b241",
   "metadata": {},
   "outputs": [
    {
     "data": {
      "text/html": [
       "<div>\n",
       "<style scoped>\n",
       "    .dataframe tbody tr th:only-of-type {\n",
       "        vertical-align: middle;\n",
       "    }\n",
       "\n",
       "    .dataframe tbody tr th {\n",
       "        vertical-align: top;\n",
       "    }\n",
       "\n",
       "    .dataframe thead th {\n",
       "        text-align: right;\n",
       "    }\n",
       "</style>\n",
       "<table border=\"1\" class=\"dataframe\">\n",
       "  <thead>\n",
       "    <tr style=\"text-align: right;\">\n",
       "      <th></th>\n",
       "      <th>Item_Identifier</th>\n",
       "      <th>Item_Weight</th>\n",
       "      <th>Item_Fat_Content</th>\n",
       "      <th>Item_Visibility</th>\n",
       "      <th>Item_Type</th>\n",
       "      <th>Item_MRP</th>\n",
       "      <th>Outlet_Identifier</th>\n",
       "      <th>Outlet_Establishment_Year</th>\n",
       "      <th>Outlet_Size</th>\n",
       "      <th>Outlet_Location_Type</th>\n",
       "      <th>Outlet_Type</th>\n",
       "      <th>Item_Outlet_Sales</th>\n",
       "    </tr>\n",
       "  </thead>\n",
       "  <tbody>\n",
       "    <tr>\n",
       "      <th>0</th>\n",
       "      <td>FDA15</td>\n",
       "      <td>9.30</td>\n",
       "      <td>Low Fat</td>\n",
       "      <td>0.016047</td>\n",
       "      <td>Dairy</td>\n",
       "      <td>249.8092</td>\n",
       "      <td>OUT049</td>\n",
       "      <td>1999</td>\n",
       "      <td>Medium</td>\n",
       "      <td>Tier 1</td>\n",
       "      <td>Supermarket Type1</td>\n",
       "      <td>3735.1380</td>\n",
       "    </tr>\n",
       "    <tr>\n",
       "      <th>1</th>\n",
       "      <td>DRC01</td>\n",
       "      <td>5.92</td>\n",
       "      <td>Regular</td>\n",
       "      <td>0.019278</td>\n",
       "      <td>Soft Drinks</td>\n",
       "      <td>48.2692</td>\n",
       "      <td>OUT018</td>\n",
       "      <td>2009</td>\n",
       "      <td>Medium</td>\n",
       "      <td>Tier 3</td>\n",
       "      <td>Supermarket Type2</td>\n",
       "      <td>443.4228</td>\n",
       "    </tr>\n",
       "    <tr>\n",
       "      <th>2</th>\n",
       "      <td>FDN15</td>\n",
       "      <td>17.50</td>\n",
       "      <td>Low Fat</td>\n",
       "      <td>0.016760</td>\n",
       "      <td>Meat</td>\n",
       "      <td>141.6180</td>\n",
       "      <td>OUT049</td>\n",
       "      <td>1999</td>\n",
       "      <td>Medium</td>\n",
       "      <td>Tier 1</td>\n",
       "      <td>Supermarket Type1</td>\n",
       "      <td>2097.2700</td>\n",
       "    </tr>\n",
       "    <tr>\n",
       "      <th>3</th>\n",
       "      <td>FDX07</td>\n",
       "      <td>19.20</td>\n",
       "      <td>Regular</td>\n",
       "      <td>0.074402</td>\n",
       "      <td>Fruits and Vegetables</td>\n",
       "      <td>182.0950</td>\n",
       "      <td>OUT010</td>\n",
       "      <td>1998</td>\n",
       "      <td>Medium</td>\n",
       "      <td>Tier 3</td>\n",
       "      <td>Grocery Store</td>\n",
       "      <td>732.3800</td>\n",
       "    </tr>\n",
       "    <tr>\n",
       "      <th>4</th>\n",
       "      <td>NCD19</td>\n",
       "      <td>8.93</td>\n",
       "      <td>Low Fat</td>\n",
       "      <td>0.064299</td>\n",
       "      <td>Household</td>\n",
       "      <td>53.8614</td>\n",
       "      <td>OUT013</td>\n",
       "      <td>1987</td>\n",
       "      <td>High</td>\n",
       "      <td>Tier 3</td>\n",
       "      <td>Supermarket Type1</td>\n",
       "      <td>994.7052</td>\n",
       "    </tr>\n",
       "    <tr>\n",
       "      <th>...</th>\n",
       "      <td>...</td>\n",
       "      <td>...</td>\n",
       "      <td>...</td>\n",
       "      <td>...</td>\n",
       "      <td>...</td>\n",
       "      <td>...</td>\n",
       "      <td>...</td>\n",
       "      <td>...</td>\n",
       "      <td>...</td>\n",
       "      <td>...</td>\n",
       "      <td>...</td>\n",
       "      <td>...</td>\n",
       "    </tr>\n",
       "    <tr>\n",
       "      <th>14199</th>\n",
       "      <td>FDB58</td>\n",
       "      <td>10.50</td>\n",
       "      <td>Regular</td>\n",
       "      <td>0.013496</td>\n",
       "      <td>Snack Foods</td>\n",
       "      <td>141.3154</td>\n",
       "      <td>OUT046</td>\n",
       "      <td>1997</td>\n",
       "      <td>Small</td>\n",
       "      <td>Tier 1</td>\n",
       "      <td>Supermarket Type1</td>\n",
       "      <td>NaN</td>\n",
       "    </tr>\n",
       "    <tr>\n",
       "      <th>14200</th>\n",
       "      <td>FDD47</td>\n",
       "      <td>7.60</td>\n",
       "      <td>Regular</td>\n",
       "      <td>0.142991</td>\n",
       "      <td>Starchy Foods</td>\n",
       "      <td>169.1448</td>\n",
       "      <td>OUT018</td>\n",
       "      <td>2009</td>\n",
       "      <td>Medium</td>\n",
       "      <td>Tier 3</td>\n",
       "      <td>Supermarket Type2</td>\n",
       "      <td>NaN</td>\n",
       "    </tr>\n",
       "    <tr>\n",
       "      <th>14201</th>\n",
       "      <td>NCO17</td>\n",
       "      <td>10.00</td>\n",
       "      <td>Low Fat</td>\n",
       "      <td>0.073529</td>\n",
       "      <td>Health and Hygiene</td>\n",
       "      <td>118.7440</td>\n",
       "      <td>OUT045</td>\n",
       "      <td>2002</td>\n",
       "      <td>Small</td>\n",
       "      <td>Tier 2</td>\n",
       "      <td>Supermarket Type1</td>\n",
       "      <td>NaN</td>\n",
       "    </tr>\n",
       "    <tr>\n",
       "      <th>14202</th>\n",
       "      <td>FDJ26</td>\n",
       "      <td>15.30</td>\n",
       "      <td>Regular</td>\n",
       "      <td>0.064709</td>\n",
       "      <td>Canned</td>\n",
       "      <td>214.6218</td>\n",
       "      <td>OUT017</td>\n",
       "      <td>2007</td>\n",
       "      <td>Small</td>\n",
       "      <td>Tier 2</td>\n",
       "      <td>Supermarket Type1</td>\n",
       "      <td>NaN</td>\n",
       "    </tr>\n",
       "    <tr>\n",
       "      <th>14203</th>\n",
       "      <td>FDU37</td>\n",
       "      <td>9.50</td>\n",
       "      <td>Regular</td>\n",
       "      <td>0.104720</td>\n",
       "      <td>Canned</td>\n",
       "      <td>79.7960</td>\n",
       "      <td>OUT045</td>\n",
       "      <td>2002</td>\n",
       "      <td>Small</td>\n",
       "      <td>Tier 2</td>\n",
       "      <td>Supermarket Type1</td>\n",
       "      <td>NaN</td>\n",
       "    </tr>\n",
       "  </tbody>\n",
       "</table>\n",
       "<p>14204 rows × 12 columns</p>\n",
       "</div>"
      ],
      "text/plain": [
       "      Item_Identifier  Item_Weight Item_Fat_Content  Item_Visibility  \\\n",
       "0               FDA15         9.30          Low Fat         0.016047   \n",
       "1               DRC01         5.92          Regular         0.019278   \n",
       "2               FDN15        17.50          Low Fat         0.016760   \n",
       "3               FDX07        19.20          Regular         0.074402   \n",
       "4               NCD19         8.93          Low Fat         0.064299   \n",
       "...               ...          ...              ...              ...   \n",
       "14199           FDB58        10.50          Regular         0.013496   \n",
       "14200           FDD47         7.60          Regular         0.142991   \n",
       "14201           NCO17        10.00          Low Fat         0.073529   \n",
       "14202           FDJ26        15.30          Regular         0.064709   \n",
       "14203           FDU37         9.50          Regular         0.104720   \n",
       "\n",
       "                   Item_Type  Item_MRP Outlet_Identifier  \\\n",
       "0                      Dairy  249.8092            OUT049   \n",
       "1                Soft Drinks   48.2692            OUT018   \n",
       "2                       Meat  141.6180            OUT049   \n",
       "3      Fruits and Vegetables  182.0950            OUT010   \n",
       "4                  Household   53.8614            OUT013   \n",
       "...                      ...       ...               ...   \n",
       "14199            Snack Foods  141.3154            OUT046   \n",
       "14200          Starchy Foods  169.1448            OUT018   \n",
       "14201     Health and Hygiene  118.7440            OUT045   \n",
       "14202                 Canned  214.6218            OUT017   \n",
       "14203                 Canned   79.7960            OUT045   \n",
       "\n",
       "       Outlet_Establishment_Year Outlet_Size Outlet_Location_Type  \\\n",
       "0                           1999      Medium               Tier 1   \n",
       "1                           2009      Medium               Tier 3   \n",
       "2                           1999      Medium               Tier 1   \n",
       "3                           1998      Medium               Tier 3   \n",
       "4                           1987        High               Tier 3   \n",
       "...                          ...         ...                  ...   \n",
       "14199                       1997       Small               Tier 1   \n",
       "14200                       2009      Medium               Tier 3   \n",
       "14201                       2002       Small               Tier 2   \n",
       "14202                       2007       Small               Tier 2   \n",
       "14203                       2002       Small               Tier 2   \n",
       "\n",
       "             Outlet_Type  Item_Outlet_Sales  \n",
       "0      Supermarket Type1          3735.1380  \n",
       "1      Supermarket Type2           443.4228  \n",
       "2      Supermarket Type1          2097.2700  \n",
       "3          Grocery Store           732.3800  \n",
       "4      Supermarket Type1           994.7052  \n",
       "...                  ...                ...  \n",
       "14199  Supermarket Type1                NaN  \n",
       "14200  Supermarket Type2                NaN  \n",
       "14201  Supermarket Type1                NaN  \n",
       "14202  Supermarket Type1                NaN  \n",
       "14203  Supermarket Type1                NaN  \n",
       "\n",
       "[14204 rows x 12 columns]"
      ]
     },
     "execution_count": 2,
     "metadata": {},
     "output_type": "execute_result"
    }
   ],
   "source": [
    "# Load The Data\n",
    "\n",
    "store_data=pd.read_csv(\"DS3_C6_S1_Regression_StoreSales_Data_Project.csv\")\n",
    "store_data"
   ]
  },
  {
   "cell_type": "code",
   "execution_count": 3,
   "id": "ba9e06a5",
   "metadata": {},
   "outputs": [
    {
     "data": {
      "text/plain": [
       "(14204, 12)"
      ]
     },
     "execution_count": 3,
     "metadata": {},
     "output_type": "execute_result"
    }
   ],
   "source": [
    "store_data.shape  #check the number of rows and columns in dataset"
   ]
  },
  {
   "cell_type": "code",
   "execution_count": 4,
   "id": "cd19638a",
   "metadata": {},
   "outputs": [
    {
     "name": "stdout",
     "output_type": "stream",
     "text": [
      "<class 'pandas.core.frame.DataFrame'>\n",
      "RangeIndex: 14204 entries, 0 to 14203\n",
      "Data columns (total 12 columns):\n",
      " #   Column                     Non-Null Count  Dtype  \n",
      "---  ------                     --------------  -----  \n",
      " 0   Item_Identifier            14204 non-null  object \n",
      " 1   Item_Weight                14204 non-null  float64\n",
      " 2   Item_Fat_Content           14204 non-null  object \n",
      " 3   Item_Visibility            14204 non-null  float64\n",
      " 4   Item_Type                  14204 non-null  object \n",
      " 5   Item_MRP                   14204 non-null  float64\n",
      " 6   Outlet_Identifier          14204 non-null  object \n",
      " 7   Outlet_Establishment_Year  14204 non-null  int64  \n",
      " 8   Outlet_Size                14204 non-null  object \n",
      " 9   Outlet_Location_Type       14204 non-null  object \n",
      " 10  Outlet_Type                14204 non-null  object \n",
      " 11  Item_Outlet_Sales          8523 non-null   float64\n",
      "dtypes: float64(4), int64(1), object(7)\n",
      "memory usage: 1.3+ MB\n"
     ]
    }
   ],
   "source": [
    "store_data.info() #information about data"
   ]
  },
  {
   "cell_type": "code",
   "execution_count": 5,
   "id": "536e439d",
   "metadata": {},
   "outputs": [
    {
     "data": {
      "text/html": [
       "<div>\n",
       "<style scoped>\n",
       "    .dataframe tbody tr th:only-of-type {\n",
       "        vertical-align: middle;\n",
       "    }\n",
       "\n",
       "    .dataframe tbody tr th {\n",
       "        vertical-align: top;\n",
       "    }\n",
       "\n",
       "    .dataframe thead th {\n",
       "        text-align: right;\n",
       "    }\n",
       "</style>\n",
       "<table border=\"1\" class=\"dataframe\">\n",
       "  <thead>\n",
       "    <tr style=\"text-align: right;\">\n",
       "      <th></th>\n",
       "      <th>Item_Weight</th>\n",
       "      <th>Item_Visibility</th>\n",
       "      <th>Item_MRP</th>\n",
       "      <th>Outlet_Establishment_Year</th>\n",
       "      <th>Item_Outlet_Sales</th>\n",
       "    </tr>\n",
       "  </thead>\n",
       "  <tbody>\n",
       "    <tr>\n",
       "      <th>count</th>\n",
       "      <td>14204.000000</td>\n",
       "      <td>14204.000000</td>\n",
       "      <td>14204.000000</td>\n",
       "      <td>14204.000000</td>\n",
       "      <td>8523.000000</td>\n",
       "    </tr>\n",
       "    <tr>\n",
       "      <th>mean</th>\n",
       "      <td>12.793380</td>\n",
       "      <td>0.070301</td>\n",
       "      <td>141.004977</td>\n",
       "      <td>1997.830681</td>\n",
       "      <td>2181.288914</td>\n",
       "    </tr>\n",
       "    <tr>\n",
       "      <th>std</th>\n",
       "      <td>4.651716</td>\n",
       "      <td>0.048621</td>\n",
       "      <td>62.086938</td>\n",
       "      <td>8.371664</td>\n",
       "      <td>1706.499616</td>\n",
       "    </tr>\n",
       "    <tr>\n",
       "      <th>min</th>\n",
       "      <td>4.555000</td>\n",
       "      <td>0.003575</td>\n",
       "      <td>31.290000</td>\n",
       "      <td>1985.000000</td>\n",
       "      <td>33.290000</td>\n",
       "    </tr>\n",
       "    <tr>\n",
       "      <th>25%</th>\n",
       "      <td>8.710000</td>\n",
       "      <td>0.033143</td>\n",
       "      <td>94.012000</td>\n",
       "      <td>1987.000000</td>\n",
       "      <td>834.247400</td>\n",
       "    </tr>\n",
       "    <tr>\n",
       "      <th>50%</th>\n",
       "      <td>12.600000</td>\n",
       "      <td>0.062347</td>\n",
       "      <td>142.247000</td>\n",
       "      <td>1999.000000</td>\n",
       "      <td>1794.331000</td>\n",
       "    </tr>\n",
       "    <tr>\n",
       "      <th>75%</th>\n",
       "      <td>16.750000</td>\n",
       "      <td>0.094037</td>\n",
       "      <td>185.855600</td>\n",
       "      <td>2004.000000</td>\n",
       "      <td>3101.296400</td>\n",
       "    </tr>\n",
       "    <tr>\n",
       "      <th>max</th>\n",
       "      <td>21.350000</td>\n",
       "      <td>0.328391</td>\n",
       "      <td>266.888400</td>\n",
       "      <td>2009.000000</td>\n",
       "      <td>13086.964800</td>\n",
       "    </tr>\n",
       "  </tbody>\n",
       "</table>\n",
       "</div>"
      ],
      "text/plain": [
       "        Item_Weight  Item_Visibility      Item_MRP  Outlet_Establishment_Year  \\\n",
       "count  14204.000000     14204.000000  14204.000000               14204.000000   \n",
       "mean      12.793380         0.070301    141.004977                1997.830681   \n",
       "std        4.651716         0.048621     62.086938                   8.371664   \n",
       "min        4.555000         0.003575     31.290000                1985.000000   \n",
       "25%        8.710000         0.033143     94.012000                1987.000000   \n",
       "50%       12.600000         0.062347    142.247000                1999.000000   \n",
       "75%       16.750000         0.094037    185.855600                2004.000000   \n",
       "max       21.350000         0.328391    266.888400                2009.000000   \n",
       "\n",
       "       Item_Outlet_Sales  \n",
       "count        8523.000000  \n",
       "mean         2181.288914  \n",
       "std          1706.499616  \n",
       "min            33.290000  \n",
       "25%           834.247400  \n",
       "50%          1794.331000  \n",
       "75%          3101.296400  \n",
       "max         13086.964800  "
      ]
     },
     "execution_count": 5,
     "metadata": {},
     "output_type": "execute_result"
    }
   ],
   "source": [
    "store_data.describe() #statistical description of numerical columns"
   ]
  },
  {
   "cell_type": "code",
   "execution_count": 6,
   "id": "0c6c7130",
   "metadata": {},
   "outputs": [
    {
     "data": {
      "text/plain": [
       "Item_Identifier               object\n",
       "Item_Weight                  float64\n",
       "Item_Fat_Content              object\n",
       "Item_Visibility              float64\n",
       "Item_Type                     object\n",
       "Item_MRP                     float64\n",
       "Outlet_Identifier             object\n",
       "Outlet_Establishment_Year      int64\n",
       "Outlet_Size                   object\n",
       "Outlet_Location_Type          object\n",
       "Outlet_Type                   object\n",
       "Item_Outlet_Sales            float64\n",
       "dtype: object"
      ]
     },
     "execution_count": 6,
     "metadata": {},
     "output_type": "execute_result"
    }
   ],
   "source": [
    "store_data.dtypes #check the data type of each column"
   ]
  },
  {
   "cell_type": "code",
   "execution_count": 7,
   "id": "113647f4",
   "metadata": {},
   "outputs": [
    {
     "data": {
      "text/html": [
       "<div>\n",
       "<style scoped>\n",
       "    .dataframe tbody tr th:only-of-type {\n",
       "        vertical-align: middle;\n",
       "    }\n",
       "\n",
       "    .dataframe tbody tr th {\n",
       "        vertical-align: top;\n",
       "    }\n",
       "\n",
       "    .dataframe thead th {\n",
       "        text-align: right;\n",
       "    }\n",
       "</style>\n",
       "<table border=\"1\" class=\"dataframe\">\n",
       "  <thead>\n",
       "    <tr style=\"text-align: right;\">\n",
       "      <th></th>\n",
       "      <th>Item_Identifier</th>\n",
       "      <th>Item_Weight</th>\n",
       "      <th>Item_Fat_Content</th>\n",
       "      <th>Item_Visibility</th>\n",
       "      <th>Item_Type</th>\n",
       "      <th>Item_MRP</th>\n",
       "      <th>Outlet_Identifier</th>\n",
       "      <th>Outlet_Establishment_Year</th>\n",
       "      <th>Outlet_Size</th>\n",
       "      <th>Outlet_Location_Type</th>\n",
       "      <th>Outlet_Type</th>\n",
       "      <th>Item_Outlet_Sales</th>\n",
       "    </tr>\n",
       "  </thead>\n",
       "  <tbody>\n",
       "    <tr>\n",
       "      <th>0</th>\n",
       "      <td>FDA15</td>\n",
       "      <td>9.30</td>\n",
       "      <td>Low Fat</td>\n",
       "      <td>0.016047</td>\n",
       "      <td>Dairy</td>\n",
       "      <td>249.8092</td>\n",
       "      <td>OUT049</td>\n",
       "      <td>1999</td>\n",
       "      <td>Medium</td>\n",
       "      <td>Tier 1</td>\n",
       "      <td>Supermarket Type1</td>\n",
       "      <td>3735.1380</td>\n",
       "    </tr>\n",
       "    <tr>\n",
       "      <th>1</th>\n",
       "      <td>DRC01</td>\n",
       "      <td>5.92</td>\n",
       "      <td>Regular</td>\n",
       "      <td>0.019278</td>\n",
       "      <td>Soft Drinks</td>\n",
       "      <td>48.2692</td>\n",
       "      <td>OUT018</td>\n",
       "      <td>2009</td>\n",
       "      <td>Medium</td>\n",
       "      <td>Tier 3</td>\n",
       "      <td>Supermarket Type2</td>\n",
       "      <td>443.4228</td>\n",
       "    </tr>\n",
       "    <tr>\n",
       "      <th>2</th>\n",
       "      <td>FDN15</td>\n",
       "      <td>17.50</td>\n",
       "      <td>Low Fat</td>\n",
       "      <td>0.016760</td>\n",
       "      <td>Meat</td>\n",
       "      <td>141.6180</td>\n",
       "      <td>OUT049</td>\n",
       "      <td>1999</td>\n",
       "      <td>Medium</td>\n",
       "      <td>Tier 1</td>\n",
       "      <td>Supermarket Type1</td>\n",
       "      <td>2097.2700</td>\n",
       "    </tr>\n",
       "    <tr>\n",
       "      <th>3</th>\n",
       "      <td>FDX07</td>\n",
       "      <td>19.20</td>\n",
       "      <td>Regular</td>\n",
       "      <td>0.074402</td>\n",
       "      <td>Fruits and Vegetables</td>\n",
       "      <td>182.0950</td>\n",
       "      <td>OUT010</td>\n",
       "      <td>1998</td>\n",
       "      <td>Medium</td>\n",
       "      <td>Tier 3</td>\n",
       "      <td>Grocery Store</td>\n",
       "      <td>732.3800</td>\n",
       "    </tr>\n",
       "    <tr>\n",
       "      <th>4</th>\n",
       "      <td>NCD19</td>\n",
       "      <td>8.93</td>\n",
       "      <td>Low Fat</td>\n",
       "      <td>0.064299</td>\n",
       "      <td>Household</td>\n",
       "      <td>53.8614</td>\n",
       "      <td>OUT013</td>\n",
       "      <td>1987</td>\n",
       "      <td>High</td>\n",
       "      <td>Tier 3</td>\n",
       "      <td>Supermarket Type1</td>\n",
       "      <td>994.7052</td>\n",
       "    </tr>\n",
       "  </tbody>\n",
       "</table>\n",
       "</div>"
      ],
      "text/plain": [
       "  Item_Identifier  Item_Weight Item_Fat_Content  Item_Visibility  \\\n",
       "0           FDA15         9.30          Low Fat         0.016047   \n",
       "1           DRC01         5.92          Regular         0.019278   \n",
       "2           FDN15        17.50          Low Fat         0.016760   \n",
       "3           FDX07        19.20          Regular         0.074402   \n",
       "4           NCD19         8.93          Low Fat         0.064299   \n",
       "\n",
       "               Item_Type  Item_MRP Outlet_Identifier  \\\n",
       "0                  Dairy  249.8092            OUT049   \n",
       "1            Soft Drinks   48.2692            OUT018   \n",
       "2                   Meat  141.6180            OUT049   \n",
       "3  Fruits and Vegetables  182.0950            OUT010   \n",
       "4              Household   53.8614            OUT013   \n",
       "\n",
       "   Outlet_Establishment_Year Outlet_Size Outlet_Location_Type  \\\n",
       "0                       1999      Medium               Tier 1   \n",
       "1                       2009      Medium               Tier 3   \n",
       "2                       1999      Medium               Tier 1   \n",
       "3                       1998      Medium               Tier 3   \n",
       "4                       1987        High               Tier 3   \n",
       "\n",
       "         Outlet_Type  Item_Outlet_Sales  \n",
       "0  Supermarket Type1          3735.1380  \n",
       "1  Supermarket Type2           443.4228  \n",
       "2  Supermarket Type1          2097.2700  \n",
       "3      Grocery Store           732.3800  \n",
       "4  Supermarket Type1           994.7052  "
      ]
     },
     "execution_count": 7,
     "metadata": {},
     "output_type": "execute_result"
    }
   ],
   "source": [
    "store_data.head() #display first five records"
   ]
  },
  {
   "cell_type": "code",
   "execution_count": 8,
   "id": "184e3e2d",
   "metadata": {},
   "outputs": [
    {
     "data": {
      "text/html": [
       "<div>\n",
       "<style scoped>\n",
       "    .dataframe tbody tr th:only-of-type {\n",
       "        vertical-align: middle;\n",
       "    }\n",
       "\n",
       "    .dataframe tbody tr th {\n",
       "        vertical-align: top;\n",
       "    }\n",
       "\n",
       "    .dataframe thead th {\n",
       "        text-align: right;\n",
       "    }\n",
       "</style>\n",
       "<table border=\"1\" class=\"dataframe\">\n",
       "  <thead>\n",
       "    <tr style=\"text-align: right;\">\n",
       "      <th></th>\n",
       "      <th>Item_Identifier</th>\n",
       "      <th>Item_Weight</th>\n",
       "      <th>Item_Fat_Content</th>\n",
       "      <th>Item_Visibility</th>\n",
       "      <th>Item_Type</th>\n",
       "      <th>Item_MRP</th>\n",
       "      <th>Outlet_Identifier</th>\n",
       "      <th>Outlet_Establishment_Year</th>\n",
       "      <th>Outlet_Size</th>\n",
       "      <th>Outlet_Location_Type</th>\n",
       "      <th>Outlet_Type</th>\n",
       "      <th>Item_Outlet_Sales</th>\n",
       "    </tr>\n",
       "  </thead>\n",
       "  <tbody>\n",
       "    <tr>\n",
       "      <th>14199</th>\n",
       "      <td>FDB58</td>\n",
       "      <td>10.5</td>\n",
       "      <td>Regular</td>\n",
       "      <td>0.013496</td>\n",
       "      <td>Snack Foods</td>\n",
       "      <td>141.3154</td>\n",
       "      <td>OUT046</td>\n",
       "      <td>1997</td>\n",
       "      <td>Small</td>\n",
       "      <td>Tier 1</td>\n",
       "      <td>Supermarket Type1</td>\n",
       "      <td>NaN</td>\n",
       "    </tr>\n",
       "    <tr>\n",
       "      <th>14200</th>\n",
       "      <td>FDD47</td>\n",
       "      <td>7.6</td>\n",
       "      <td>Regular</td>\n",
       "      <td>0.142991</td>\n",
       "      <td>Starchy Foods</td>\n",
       "      <td>169.1448</td>\n",
       "      <td>OUT018</td>\n",
       "      <td>2009</td>\n",
       "      <td>Medium</td>\n",
       "      <td>Tier 3</td>\n",
       "      <td>Supermarket Type2</td>\n",
       "      <td>NaN</td>\n",
       "    </tr>\n",
       "    <tr>\n",
       "      <th>14201</th>\n",
       "      <td>NCO17</td>\n",
       "      <td>10.0</td>\n",
       "      <td>Low Fat</td>\n",
       "      <td>0.073529</td>\n",
       "      <td>Health and Hygiene</td>\n",
       "      <td>118.7440</td>\n",
       "      <td>OUT045</td>\n",
       "      <td>2002</td>\n",
       "      <td>Small</td>\n",
       "      <td>Tier 2</td>\n",
       "      <td>Supermarket Type1</td>\n",
       "      <td>NaN</td>\n",
       "    </tr>\n",
       "    <tr>\n",
       "      <th>14202</th>\n",
       "      <td>FDJ26</td>\n",
       "      <td>15.3</td>\n",
       "      <td>Regular</td>\n",
       "      <td>0.064709</td>\n",
       "      <td>Canned</td>\n",
       "      <td>214.6218</td>\n",
       "      <td>OUT017</td>\n",
       "      <td>2007</td>\n",
       "      <td>Small</td>\n",
       "      <td>Tier 2</td>\n",
       "      <td>Supermarket Type1</td>\n",
       "      <td>NaN</td>\n",
       "    </tr>\n",
       "    <tr>\n",
       "      <th>14203</th>\n",
       "      <td>FDU37</td>\n",
       "      <td>9.5</td>\n",
       "      <td>Regular</td>\n",
       "      <td>0.104720</td>\n",
       "      <td>Canned</td>\n",
       "      <td>79.7960</td>\n",
       "      <td>OUT045</td>\n",
       "      <td>2002</td>\n",
       "      <td>Small</td>\n",
       "      <td>Tier 2</td>\n",
       "      <td>Supermarket Type1</td>\n",
       "      <td>NaN</td>\n",
       "    </tr>\n",
       "  </tbody>\n",
       "</table>\n",
       "</div>"
      ],
      "text/plain": [
       "      Item_Identifier  Item_Weight Item_Fat_Content  Item_Visibility  \\\n",
       "14199           FDB58         10.5          Regular         0.013496   \n",
       "14200           FDD47          7.6          Regular         0.142991   \n",
       "14201           NCO17         10.0          Low Fat         0.073529   \n",
       "14202           FDJ26         15.3          Regular         0.064709   \n",
       "14203           FDU37          9.5          Regular         0.104720   \n",
       "\n",
       "                Item_Type  Item_MRP Outlet_Identifier  \\\n",
       "14199         Snack Foods  141.3154            OUT046   \n",
       "14200       Starchy Foods  169.1448            OUT018   \n",
       "14201  Health and Hygiene  118.7440            OUT045   \n",
       "14202              Canned  214.6218            OUT017   \n",
       "14203              Canned   79.7960            OUT045   \n",
       "\n",
       "       Outlet_Establishment_Year Outlet_Size Outlet_Location_Type  \\\n",
       "14199                       1997       Small               Tier 1   \n",
       "14200                       2009      Medium               Tier 3   \n",
       "14201                       2002       Small               Tier 2   \n",
       "14202                       2007       Small               Tier 2   \n",
       "14203                       2002       Small               Tier 2   \n",
       "\n",
       "             Outlet_Type  Item_Outlet_Sales  \n",
       "14199  Supermarket Type1                NaN  \n",
       "14200  Supermarket Type2                NaN  \n",
       "14201  Supermarket Type1                NaN  \n",
       "14202  Supermarket Type1                NaN  \n",
       "14203  Supermarket Type1                NaN  "
      ]
     },
     "execution_count": 8,
     "metadata": {},
     "output_type": "execute_result"
    }
   ],
   "source": [
    "store_data.tail() #display last five records"
   ]
  },
  {
   "cell_type": "code",
   "execution_count": 9,
   "id": "ee460717",
   "metadata": {},
   "outputs": [
    {
     "data": {
      "text/html": [
       "<div>\n",
       "<style scoped>\n",
       "    .dataframe tbody tr th:only-of-type {\n",
       "        vertical-align: middle;\n",
       "    }\n",
       "\n",
       "    .dataframe tbody tr th {\n",
       "        vertical-align: top;\n",
       "    }\n",
       "\n",
       "    .dataframe thead th {\n",
       "        text-align: right;\n",
       "    }\n",
       "</style>\n",
       "<table border=\"1\" class=\"dataframe\">\n",
       "  <thead>\n",
       "    <tr style=\"text-align: right;\">\n",
       "      <th></th>\n",
       "      <th>Item_Identifier</th>\n",
       "      <th>Item_Weight</th>\n",
       "      <th>Item_Fat_Content</th>\n",
       "      <th>Item_Visibility</th>\n",
       "      <th>Item_Type</th>\n",
       "      <th>Item_MRP</th>\n",
       "      <th>Outlet_Identifier</th>\n",
       "      <th>Outlet_Establishment_Year</th>\n",
       "      <th>Outlet_Size</th>\n",
       "      <th>Outlet_Location_Type</th>\n",
       "      <th>Outlet_Type</th>\n",
       "      <th>Item_Outlet_Sales</th>\n",
       "    </tr>\n",
       "  </thead>\n",
       "  <tbody>\n",
       "    <tr>\n",
       "      <th>4162</th>\n",
       "      <td>FDP57</td>\n",
       "      <td>17.500</td>\n",
       "      <td>Low Fat</td>\n",
       "      <td>0.082291</td>\n",
       "      <td>Snack Foods</td>\n",
       "      <td>102.9990</td>\n",
       "      <td>OUT046</td>\n",
       "      <td>1997</td>\n",
       "      <td>Small</td>\n",
       "      <td>Tier 1</td>\n",
       "      <td>Supermarket Type1</td>\n",
       "      <td>2992.7710</td>\n",
       "    </tr>\n",
       "    <tr>\n",
       "      <th>1295</th>\n",
       "      <td>FDH24</td>\n",
       "      <td>20.700</td>\n",
       "      <td>Low Fat</td>\n",
       "      <td>0.021427</td>\n",
       "      <td>Baking Goods</td>\n",
       "      <td>156.5288</td>\n",
       "      <td>OUT035</td>\n",
       "      <td>2004</td>\n",
       "      <td>Small</td>\n",
       "      <td>Tier 2</td>\n",
       "      <td>Supermarket Type1</td>\n",
       "      <td>1571.2880</td>\n",
       "    </tr>\n",
       "    <tr>\n",
       "      <th>6344</th>\n",
       "      <td>FDQ19</td>\n",
       "      <td>7.350</td>\n",
       "      <td>Regular</td>\n",
       "      <td>0.024044</td>\n",
       "      <td>Fruits and Vegetables</td>\n",
       "      <td>241.0512</td>\n",
       "      <td>OUT010</td>\n",
       "      <td>1998</td>\n",
       "      <td>Medium</td>\n",
       "      <td>Tier 3</td>\n",
       "      <td>Grocery Store</td>\n",
       "      <td>242.3512</td>\n",
       "    </tr>\n",
       "    <tr>\n",
       "      <th>3098</th>\n",
       "      <td>FDY02</td>\n",
       "      <td>8.945</td>\n",
       "      <td>Regular</td>\n",
       "      <td>0.087221</td>\n",
       "      <td>Dairy</td>\n",
       "      <td>263.9910</td>\n",
       "      <td>OUT027</td>\n",
       "      <td>1985</td>\n",
       "      <td>Medium</td>\n",
       "      <td>Tier 3</td>\n",
       "      <td>Supermarket Type3</td>\n",
       "      <td>9467.6760</td>\n",
       "    </tr>\n",
       "    <tr>\n",
       "      <th>11943</th>\n",
       "      <td>NCC19</td>\n",
       "      <td>6.570</td>\n",
       "      <td>Low Fat</td>\n",
       "      <td>0.097429</td>\n",
       "      <td>Household</td>\n",
       "      <td>194.5820</td>\n",
       "      <td>OUT017</td>\n",
       "      <td>2007</td>\n",
       "      <td>Small</td>\n",
       "      <td>Tier 2</td>\n",
       "      <td>Supermarket Type1</td>\n",
       "      <td>NaN</td>\n",
       "    </tr>\n",
       "    <tr>\n",
       "      <th>7274</th>\n",
       "      <td>FDC28</td>\n",
       "      <td>7.905</td>\n",
       "      <td>Low Fat</td>\n",
       "      <td>0.064709</td>\n",
       "      <td>Frozen Foods</td>\n",
       "      <td>109.1254</td>\n",
       "      <td>OUT017</td>\n",
       "      <td>2007</td>\n",
       "      <td>Small</td>\n",
       "      <td>Tier 2</td>\n",
       "      <td>Supermarket Type1</td>\n",
       "      <td>1627.8810</td>\n",
       "    </tr>\n",
       "    <tr>\n",
       "      <th>12885</th>\n",
       "      <td>FDY14</td>\n",
       "      <td>10.300</td>\n",
       "      <td>Low Fat</td>\n",
       "      <td>0.070182</td>\n",
       "      <td>Dairy</td>\n",
       "      <td>264.6226</td>\n",
       "      <td>OUT045</td>\n",
       "      <td>2002</td>\n",
       "      <td>Small</td>\n",
       "      <td>Tier 2</td>\n",
       "      <td>Supermarket Type1</td>\n",
       "      <td>NaN</td>\n",
       "    </tr>\n",
       "    <tr>\n",
       "      <th>44</th>\n",
       "      <td>FDL50</td>\n",
       "      <td>12.150</td>\n",
       "      <td>Regular</td>\n",
       "      <td>0.042278</td>\n",
       "      <td>Canned</td>\n",
       "      <td>126.5046</td>\n",
       "      <td>OUT013</td>\n",
       "      <td>1987</td>\n",
       "      <td>High</td>\n",
       "      <td>Tier 3</td>\n",
       "      <td>Supermarket Type1</td>\n",
       "      <td>373.5138</td>\n",
       "    </tr>\n",
       "    <tr>\n",
       "      <th>9293</th>\n",
       "      <td>FDH53</td>\n",
       "      <td>20.500</td>\n",
       "      <td>Regular</td>\n",
       "      <td>0.019230</td>\n",
       "      <td>Frozen Foods</td>\n",
       "      <td>80.9592</td>\n",
       "      <td>OUT049</td>\n",
       "      <td>1999</td>\n",
       "      <td>Medium</td>\n",
       "      <td>Tier 1</td>\n",
       "      <td>Supermarket Type1</td>\n",
       "      <td>NaN</td>\n",
       "    </tr>\n",
       "    <tr>\n",
       "      <th>2605</th>\n",
       "      <td>FDU20</td>\n",
       "      <td>19.350</td>\n",
       "      <td>Regular</td>\n",
       "      <td>0.021579</td>\n",
       "      <td>Fruits and Vegetables</td>\n",
       "      <td>120.5098</td>\n",
       "      <td>OUT017</td>\n",
       "      <td>2007</td>\n",
       "      <td>Small</td>\n",
       "      <td>Tier 2</td>\n",
       "      <td>Supermarket Type1</td>\n",
       "      <td>1807.6470</td>\n",
       "    </tr>\n",
       "    <tr>\n",
       "      <th>5917</th>\n",
       "      <td>FDW21</td>\n",
       "      <td>5.340</td>\n",
       "      <td>Regular</td>\n",
       "      <td>0.005959</td>\n",
       "      <td>Snack Foods</td>\n",
       "      <td>101.6358</td>\n",
       "      <td>OUT013</td>\n",
       "      <td>1987</td>\n",
       "      <td>High</td>\n",
       "      <td>Tier 3</td>\n",
       "      <td>Supermarket Type1</td>\n",
       "      <td>1709.1086</td>\n",
       "    </tr>\n",
       "    <tr>\n",
       "      <th>9878</th>\n",
       "      <td>FDS58</td>\n",
       "      <td>9.285</td>\n",
       "      <td>Regular</td>\n",
       "      <td>0.021125</td>\n",
       "      <td>Snack Foods</td>\n",
       "      <td>159.7578</td>\n",
       "      <td>OUT017</td>\n",
       "      <td>2007</td>\n",
       "      <td>Small</td>\n",
       "      <td>Tier 2</td>\n",
       "      <td>Supermarket Type1</td>\n",
       "      <td>NaN</td>\n",
       "    </tr>\n",
       "    <tr>\n",
       "      <th>7816</th>\n",
       "      <td>FDV45</td>\n",
       "      <td>16.750</td>\n",
       "      <td>Low Fat</td>\n",
       "      <td>0.044829</td>\n",
       "      <td>Snack Foods</td>\n",
       "      <td>187.4556</td>\n",
       "      <td>OUT027</td>\n",
       "      <td>1985</td>\n",
       "      <td>Medium</td>\n",
       "      <td>Tier 3</td>\n",
       "      <td>Supermarket Type3</td>\n",
       "      <td>7510.2240</td>\n",
       "    </tr>\n",
       "    <tr>\n",
       "      <th>8817</th>\n",
       "      <td>FDU07</td>\n",
       "      <td>11.100</td>\n",
       "      <td>Low Fat</td>\n",
       "      <td>0.059557</td>\n",
       "      <td>Fruits and Vegetables</td>\n",
       "      <td>149.2366</td>\n",
       "      <td>OUT027</td>\n",
       "      <td>1985</td>\n",
       "      <td>Medium</td>\n",
       "      <td>Tier 3</td>\n",
       "      <td>Supermarket Type3</td>\n",
       "      <td>NaN</td>\n",
       "    </tr>\n",
       "    <tr>\n",
       "      <th>13216</th>\n",
       "      <td>FDK28</td>\n",
       "      <td>5.695</td>\n",
       "      <td>Low Fat</td>\n",
       "      <td>0.065723</td>\n",
       "      <td>Frozen Foods</td>\n",
       "      <td>256.9646</td>\n",
       "      <td>OUT045</td>\n",
       "      <td>2002</td>\n",
       "      <td>Small</td>\n",
       "      <td>Tier 2</td>\n",
       "      <td>Supermarket Type1</td>\n",
       "      <td>NaN</td>\n",
       "    </tr>\n",
       "  </tbody>\n",
       "</table>\n",
       "</div>"
      ],
      "text/plain": [
       "      Item_Identifier  Item_Weight Item_Fat_Content  Item_Visibility  \\\n",
       "4162            FDP57       17.500          Low Fat         0.082291   \n",
       "1295            FDH24       20.700          Low Fat         0.021427   \n",
       "6344            FDQ19        7.350          Regular         0.024044   \n",
       "3098            FDY02        8.945          Regular         0.087221   \n",
       "11943           NCC19        6.570          Low Fat         0.097429   \n",
       "7274            FDC28        7.905          Low Fat         0.064709   \n",
       "12885           FDY14       10.300          Low Fat         0.070182   \n",
       "44              FDL50       12.150          Regular         0.042278   \n",
       "9293            FDH53       20.500          Regular         0.019230   \n",
       "2605            FDU20       19.350          Regular         0.021579   \n",
       "5917            FDW21        5.340          Regular         0.005959   \n",
       "9878            FDS58        9.285          Regular         0.021125   \n",
       "7816            FDV45       16.750          Low Fat         0.044829   \n",
       "8817            FDU07       11.100          Low Fat         0.059557   \n",
       "13216           FDK28        5.695          Low Fat         0.065723   \n",
       "\n",
       "                   Item_Type  Item_MRP Outlet_Identifier  \\\n",
       "4162             Snack Foods  102.9990            OUT046   \n",
       "1295            Baking Goods  156.5288            OUT035   \n",
       "6344   Fruits and Vegetables  241.0512            OUT010   \n",
       "3098                   Dairy  263.9910            OUT027   \n",
       "11943              Household  194.5820            OUT017   \n",
       "7274            Frozen Foods  109.1254            OUT017   \n",
       "12885                  Dairy  264.6226            OUT045   \n",
       "44                    Canned  126.5046            OUT013   \n",
       "9293            Frozen Foods   80.9592            OUT049   \n",
       "2605   Fruits and Vegetables  120.5098            OUT017   \n",
       "5917             Snack Foods  101.6358            OUT013   \n",
       "9878             Snack Foods  159.7578            OUT017   \n",
       "7816             Snack Foods  187.4556            OUT027   \n",
       "8817   Fruits and Vegetables  149.2366            OUT027   \n",
       "13216           Frozen Foods  256.9646            OUT045   \n",
       "\n",
       "       Outlet_Establishment_Year Outlet_Size Outlet_Location_Type  \\\n",
       "4162                        1997       Small               Tier 1   \n",
       "1295                        2004       Small               Tier 2   \n",
       "6344                        1998      Medium               Tier 3   \n",
       "3098                        1985      Medium               Tier 3   \n",
       "11943                       2007       Small               Tier 2   \n",
       "7274                        2007       Small               Tier 2   \n",
       "12885                       2002       Small               Tier 2   \n",
       "44                          1987        High               Tier 3   \n",
       "9293                        1999      Medium               Tier 1   \n",
       "2605                        2007       Small               Tier 2   \n",
       "5917                        1987        High               Tier 3   \n",
       "9878                        2007       Small               Tier 2   \n",
       "7816                        1985      Medium               Tier 3   \n",
       "8817                        1985      Medium               Tier 3   \n",
       "13216                       2002       Small               Tier 2   \n",
       "\n",
       "             Outlet_Type  Item_Outlet_Sales  \n",
       "4162   Supermarket Type1          2992.7710  \n",
       "1295   Supermarket Type1          1571.2880  \n",
       "6344       Grocery Store           242.3512  \n",
       "3098   Supermarket Type3          9467.6760  \n",
       "11943  Supermarket Type1                NaN  \n",
       "7274   Supermarket Type1          1627.8810  \n",
       "12885  Supermarket Type1                NaN  \n",
       "44     Supermarket Type1           373.5138  \n",
       "9293   Supermarket Type1                NaN  \n",
       "2605   Supermarket Type1          1807.6470  \n",
       "5917   Supermarket Type1          1709.1086  \n",
       "9878   Supermarket Type1                NaN  \n",
       "7816   Supermarket Type3          7510.2240  \n",
       "8817   Supermarket Type3                NaN  \n",
       "13216  Supermarket Type1                NaN  "
      ]
     },
     "execution_count": 9,
     "metadata": {},
     "output_type": "execute_result"
    }
   ],
   "source": [
    "store_data.sample(15) # display a random sample of size 15 "
   ]
  },
  {
   "cell_type": "markdown",
   "id": "d10daf35",
   "metadata": {},
   "source": [
    "-\n",
    "Check null values"
   ]
  },
  {
   "cell_type": "code",
   "execution_count": 10,
   "id": "02ca4975",
   "metadata": {},
   "outputs": [
    {
     "data": {
      "text/plain": [
       "Item_Identifier                 0\n",
       "Item_Weight                     0\n",
       "Item_Fat_Content                0\n",
       "Item_Visibility                 0\n",
       "Item_Type                       0\n",
       "Item_MRP                        0\n",
       "Outlet_Identifier               0\n",
       "Outlet_Establishment_Year       0\n",
       "Outlet_Size                     0\n",
       "Outlet_Location_Type            0\n",
       "Outlet_Type                     0\n",
       "Item_Outlet_Sales            5681\n",
       "dtype: int64"
      ]
     },
     "execution_count": 10,
     "metadata": {},
     "output_type": "execute_result"
    }
   ],
   "source": [
    "store_data.isnull().sum()"
   ]
  },
  {
   "cell_type": "markdown",
   "id": "f0eb2da6",
   "metadata": {},
   "source": [
    "- Interpretation- 5681 missing values are present in the Item_Outlet_Sales column"
   ]
  },
  {
   "cell_type": "markdown",
   "id": "6ea3189c",
   "metadata": {},
   "source": [
    "- Imputation of missing values"
   ]
  },
  {
   "cell_type": "code",
   "execution_count": 11,
   "id": "e55d3a43",
   "metadata": {},
   "outputs": [
    {
     "data": {
      "text/plain": [
       "2181.2889135750365"
      ]
     },
     "execution_count": 11,
     "metadata": {},
     "output_type": "execute_result"
    }
   ],
   "source": [
    "sales_mean=store_data['Item_Outlet_Sales'].mean()  # find mean of Item_Outlet_Sales column\n",
    "sales_mean"
   ]
  },
  {
   "cell_type": "code",
   "execution_count": 12,
   "id": "3aeac334",
   "metadata": {},
   "outputs": [],
   "source": [
    "store_data['Item_Outlet_Sales'].fillna(sales_mean,inplace=True) # fill the missing values with the mean"
   ]
  },
  {
   "cell_type": "code",
   "execution_count": 13,
   "id": "17adcc6f",
   "metadata": {},
   "outputs": [
    {
     "data": {
      "text/plain": [
       "Item_Identifier              0\n",
       "Item_Weight                  0\n",
       "Item_Fat_Content             0\n",
       "Item_Visibility              0\n",
       "Item_Type                    0\n",
       "Item_MRP                     0\n",
       "Outlet_Identifier            0\n",
       "Outlet_Establishment_Year    0\n",
       "Outlet_Size                  0\n",
       "Outlet_Location_Type         0\n",
       "Outlet_Type                  0\n",
       "Item_Outlet_Sales            0\n",
       "dtype: int64"
      ]
     },
     "execution_count": 13,
     "metadata": {},
     "output_type": "execute_result"
    }
   ],
   "source": [
    "store_data.isnull().sum() # after imputation again check missing values"
   ]
  },
  {
   "cell_type": "markdown",
   "id": "8bbe705c",
   "metadata": {},
   "source": [
    "- Now, No missing values are present in the dataset"
   ]
  },
  {
   "cell_type": "markdown",
   "id": "6d151c7e",
   "metadata": {},
   "source": [
    "# EDA-Exploratory Data Analysis"
   ]
  },
  {
   "cell_type": "markdown",
   "id": "15167c88",
   "metadata": {},
   "source": [
    "# Plot Histogram for numerical coulmns"
   ]
  },
  {
   "cell_type": "code",
   "execution_count": 14,
   "id": "0558341a",
   "metadata": {},
   "outputs": [
    {
     "data": {
      "image/png": "[encoded data removed]",
      "text/plain": [
       "<Figure size 1440x1080 with 6 Axes>"
      ]
     },
     "metadata": {
      "needs_background": "light"
     },
     "output_type": "display_data"
    }
   ],
   "source": [
    "store_data.hist(bins=50,figsize=(20,15));"
   ]
  },
  {
   "cell_type": "markdown",
   "id": "8f346f49",
   "metadata": {},
   "source": [
    "# Bar graph for Categorical Coumns"
   ]
  },
  {
   "cell_type": "markdown",
   "id": "b755ee95",
   "metadata": {},
   "source": [
    "- check the unique values in categorical columns"
   ]
  },
  {
   "cell_type": "code",
   "execution_count": 15,
   "id": "3041fdfb",
   "metadata": {},
   "outputs": [
    {
     "data": {
      "text/plain": [
       "array(['FDA15', 'DRC01', 'FDN15', ..., 'NCF55', 'NCW30', 'NCW05'],\n",
       "      dtype=object)"
      ]
     },
     "execution_count": 15,
     "metadata": {},
     "output_type": "execute_result"
    }
   ],
   "source": [
    "store_data['Item_Identifier'].unique()"
   ]
  },
  {
   "cell_type": "code",
   "execution_count": 16,
   "id": "1779de8d",
   "metadata": {},
   "outputs": [
    {
     "data": {
      "text/plain": [
       "array(['Low Fat', 'Regular'], dtype=object)"
      ]
     },
     "execution_count": 16,
     "metadata": {},
     "output_type": "execute_result"
    }
   ],
   "source": [
    "store_data['Item_Fat_Content'].unique()"
   ]
  },
  {
   "cell_type": "code",
   "execution_count": 17,
   "id": "24fe29b9",
   "metadata": {},
   "outputs": [
    {
     "data": {
      "text/plain": [
       "array(['Dairy', 'Soft Drinks', 'Meat', 'Fruits and Vegetables',\n",
       "       'Household', 'Baking Goods', 'Snack Foods', 'Frozen Foods',\n",
       "       'Breakfast', 'Health and Hygiene', 'Hard Drinks', 'Canned',\n",
       "       'Breads', 'Starchy Foods', 'Others', 'Seafood'], dtype=object)"
      ]
     },
     "execution_count": 17,
     "metadata": {},
     "output_type": "execute_result"
    }
   ],
   "source": [
    "store_data['Item_Type'].unique()"
   ]
  },
  {
   "cell_type": "code",
   "execution_count": 18,
   "id": "dd4e0ed5",
   "metadata": {},
   "outputs": [
    {
     "data": {
      "text/plain": [
       "array(['OUT049', 'OUT018', 'OUT010', 'OUT013', 'OUT027', 'OUT045',\n",
       "       'OUT017', 'OUT046', 'OUT035', 'OUT019'], dtype=object)"
      ]
     },
     "execution_count": 18,
     "metadata": {},
     "output_type": "execute_result"
    }
   ],
   "source": [
    "store_data['Outlet_Identifier'].unique()"
   ]
  },
  {
   "cell_type": "code",
   "execution_count": 19,
   "id": "3bd42272",
   "metadata": {},
   "outputs": [
    {
     "data": {
      "text/plain": [
       "array(['Medium', 'High', 'Small'], dtype=object)"
      ]
     },
     "execution_count": 19,
     "metadata": {},
     "output_type": "execute_result"
    }
   ],
   "source": [
    "store_data['Outlet_Size'].unique()"
   ]
  },
  {
   "cell_type": "code",
   "execution_count": 20,
   "id": "45dd1d16",
   "metadata": {},
   "outputs": [
    {
     "data": {
      "text/plain": [
       "array(['OUT049', 'OUT018', 'OUT010', 'OUT013', 'OUT027', 'OUT045',\n",
       "       'OUT017', 'OUT046', 'OUT035', 'OUT019'], dtype=object)"
      ]
     },
     "execution_count": 20,
     "metadata": {},
     "output_type": "execute_result"
    }
   ],
   "source": [
    "store_data['Outlet_Identifier'].unique()"
   ]
  },
  {
   "cell_type": "code",
   "execution_count": 21,
   "id": "0b26c5f2",
   "metadata": {},
   "outputs": [
    {
     "data": {
      "text/plain": [
       "array(['Tier 1', 'Tier 3', 'Tier 2'], dtype=object)"
      ]
     },
     "execution_count": 21,
     "metadata": {},
     "output_type": "execute_result"
    }
   ],
   "source": [
    "store_data['Outlet_Location_Type'].unique()"
   ]
  },
  {
   "cell_type": "code",
   "execution_count": 22,
   "id": "073ea6e1",
   "metadata": {},
   "outputs": [
    {
     "data": {
      "text/plain": [
       "array(['Supermarket Type1', 'Supermarket Type2', 'Grocery Store',\n",
       "       'Supermarket Type3'], dtype=object)"
      ]
     },
     "execution_count": 22,
     "metadata": {},
     "output_type": "execute_result"
    }
   ],
   "source": [
    "store_data['Outlet_Type'].unique()"
   ]
  },
  {
   "cell_type": "code",
   "execution_count": 23,
   "id": "03104ce3",
   "metadata": {},
   "outputs": [
    {
     "data": {
      "image/png": "[encoded data removed]",
      "text/plain": [
       "<Figure size 720x720 with 1 Axes>"
      ]
     },
     "metadata": {
      "needs_background": "light"
     },
     "output_type": "display_data"
    }
   ],
   "source": [
    "plt.figure(figsize=(10,10))\n",
    "sns.countplot(x='Item_Fat_Content',data=store_data)\n",
    "plt.show()\n"
   ]
  },
  {
   "cell_type": "markdown",
   "id": "bdbd0a49",
   "metadata": {},
   "source": [
    "- Items which contains Low Fat are maximum"
   ]
  },
  {
   "cell_type": "code",
   "execution_count": 24,
   "id": "055ffafa",
   "metadata": {},
   "outputs": [
    {
     "data": {
      "image/png": "[encoded data removed]",
      "text/plain": [
       "<Figure size 2160x1440 with 1 Axes>"
      ]
     },
     "metadata": {
      "needs_background": "light"
     },
     "output_type": "display_data"
    }
   ],
   "source": [
    "plt.figure(figsize=(30,20))    # for categorical data\n",
    "sns.countplot(x='Item_Type',data=store_data)\n",
    "plt.show()"
   ]
  },
  {
   "cell_type": "markdown",
   "id": "9c400b10",
   "metadata": {},
   "source": [
    "- Fruits and Vegetables,Snack Foods types of items are high"
   ]
  },
  {
   "cell_type": "code",
   "execution_count": 25,
   "id": "c693f214",
   "metadata": {},
   "outputs": [
    {
     "data": {
      "image/png": "[encoded data removed]",
      "text/plain": [
       "<Figure size 432x432 with 1 Axes>"
      ]
     },
     "metadata": {
      "needs_background": "light"
     },
     "output_type": "display_data"
    }
   ],
   "source": [
    "plt.figure(figsize=(6,6))    # for categorical data\n",
    "sns.countplot(x='Outlet_Size',data=store_data)\n",
    "plt.show()"
   ]
  },
  {
   "cell_type": "markdown",
   "id": "8d6ba08d",
   "metadata": {},
   "source": [
    "- Stores of small size are maximum"
   ]
  },
  {
   "cell_type": "code",
   "execution_count": 26,
   "id": "4bc1ab34",
   "metadata": {},
   "outputs": [
    {
     "data": {
      "image/png": "[encoded data removed]",
      "text/plain": [
       "<Figure size 576x432 with 1 Axes>"
      ]
     },
     "metadata": {
      "needs_background": "light"
     },
     "output_type": "display_data"
    }
   ],
   "source": [
    "plt.figure(figsize=(8,6))    # for categorical data\n",
    "sns.countplot(x='Outlet_Type',data=store_data)\n",
    "plt.show()"
   ]
  },
  {
   "cell_type": "markdown",
   "id": "6e56f850",
   "metadata": {},
   "source": [
    "- Supermarket Type1 are maximum"
   ]
  },
  {
   "cell_type": "code",
   "execution_count": 27,
   "id": "c5a8465b",
   "metadata": {},
   "outputs": [
    {
     "data": {
      "text/plain": [
       "Item_Identifier               object\n",
       "Item_Weight                  float64\n",
       "Item_Fat_Content              object\n",
       "Item_Visibility              float64\n",
       "Item_Type                     object\n",
       "Item_MRP                     float64\n",
       "Outlet_Identifier             object\n",
       "Outlet_Establishment_Year      int64\n",
       "Outlet_Size                   object\n",
       "Outlet_Location_Type          object\n",
       "Outlet_Type                   object\n",
       "Item_Outlet_Sales            float64\n",
       "dtype: object"
      ]
     },
     "execution_count": 27,
     "metadata": {},
     "output_type": "execute_result"
    }
   ],
   "source": [
    "store_data.dtypes"
   ]
  },
  {
   "cell_type": "code",
   "execution_count": 28,
   "id": "e3dc8804",
   "metadata": {},
   "outputs": [
    {
     "data": {
      "text/plain": [
       "<seaborn.axisgrid.FacetGrid at 0x20ade1ae190>"
      ]
     },
     "execution_count": 28,
     "metadata": {},
     "output_type": "execute_result"
    },
    {
     "data": {
      "image/png": "[encoded data removed]",
      "text/plain": [
       "<Figure size 1534.88x360 with 1 Axes>"
      ]
     },
     "metadata": {
      "needs_background": "light"
     },
     "output_type": "display_data"
    }
   ],
   "source": [
    "# Barplot Item_Fat_Content per Item_Type\n",
    "\n",
    "sns.catplot(data=store_data,x='Item_Type',hue='Item_Fat_Content',kind='count',aspect=4,palette='Paired')"
   ]
  },
  {
   "cell_type": "markdown",
   "id": "399f6612",
   "metadata": {},
   "source": [
    "- Household items have highest low fat and fruits and vegetables items have regular fat "
   ]
  },
  {
   "cell_type": "code",
   "execution_count": 29,
   "id": "8a0039c4",
   "metadata": {},
   "outputs": [
    {
     "data": {
      "image/png": "[encoded data removed]",
      "text/plain": [
       "<Figure size 1516x360 with 1 Axes>"
      ]
     },
     "metadata": {
      "needs_background": "light"
     },
     "output_type": "display_data"
    }
   ],
   "source": [
    "# outletsize per outlet type\n",
    "sns.catplot(data=store_data,x='Outlet_Type',hue='Outlet_Size',kind='count',aspect=4,palette='Paired');"
   ]
  },
  {
   "cell_type": "markdown",
   "id": "e859aa41",
   "metadata": {},
   "source": [
    "- Outlets of Supermarket Type1 had small size outlets"
   ]
  },
  {
   "cell_type": "code",
   "execution_count": 30,
   "id": "6077ad19",
   "metadata": {},
   "outputs": [
    {
     "data": {
      "text/plain": [
       "<AxesSubplot:xlabel='Item_Fat_Content', ylabel='Item_Outlet_Sales'>"
      ]
     },
     "execution_count": 30,
     "metadata": {},
     "output_type": "execute_result"
    },
    {
     "data": {
      "image/png": "[encoded data removed]",
      "text/plain": [
       "<Figure size 432x288 with 1 Axes>"
      ]
     },
     "metadata": {
      "needs_background": "light"
     },
     "output_type": "display_data"
    }
   ],
   "source": [
    "# Bargraph Item_Outlet_Sales per Item_Fat_Content\n",
    "\n",
    "sns.barplot(x = 'Item_Fat_Content', y ='Item_Outlet_Sales',data=store_data,ci=None)"
   ]
  },
  {
   "cell_type": "markdown",
   "id": "7fb716a8",
   "metadata": {},
   "source": [
    "- Items with low fat and regular fat have almost equal sales"
   ]
  },
  {
   "cell_type": "code",
   "execution_count": 31,
   "id": "4199609d",
   "metadata": {},
   "outputs": [
    {
     "data": {
      "text/plain": [
       "<AxesSubplot:xlabel='Outlet_Size', ylabel='Item_Outlet_Sales'>"
      ]
     },
     "execution_count": 31,
     "metadata": {},
     "output_type": "execute_result"
    },
    {
     "data": {
      "image/png": "[encoded data removed]",
      "text/plain": [
       "<Figure size 432x288 with 1 Axes>"
      ]
     },
     "metadata": {
      "needs_background": "light"
     },
     "output_type": "display_data"
    }
   ],
   "source": [
    "#bargraph size_location_sales\n",
    "\n",
    "sns.barplot(x='Outlet_Size',y='Item_Outlet_Sales',hue='Outlet_Location_Type',data=store_data,ci=None)"
   ]
  },
  {
   "cell_type": "markdown",
   "id": "398030c3",
   "metadata": {},
   "source": [
    "- Medium size outlets have almost equal sales in Tier1 and Tier3 location type\n",
    "- small size outlets have highest sales in Tier2 location type"
   ]
  },
  {
   "cell_type": "code",
   "execution_count": 32,
   "id": "97456593",
   "metadata": {},
   "outputs": [
    {
     "data": {
      "image/png": "[encoded data removed]",
      "text/plain": [
       "<Figure size 3600x720 with 1 Axes>"
      ]
     },
     "metadata": {
      "needs_background": "light"
     },
     "output_type": "display_data"
    }
   ],
   "source": [
    "# bargraph Fat_Type_sales\n",
    "plt.figure(figsize=(50,10))\n",
    "sns.barplot(x='Item_Type',y='Item_Outlet_Sales',hue='Item_Fat_Content',data=store_data,ci=None)\n",
    "plt.show()"
   ]
  },
  {
   "cell_type": "markdown",
   "id": "88e4da71",
   "metadata": {},
   "source": [
    "- SeaFood items with low fat have highest sales\n"
   ]
  },
  {
   "cell_type": "markdown",
   "id": "0870e69e",
   "metadata": {},
   "source": [
    "# Data Preprocessing"
   ]
  },
  {
   "cell_type": "code",
   "execution_count": 33,
   "id": "18924055",
   "metadata": {},
   "outputs": [
    {
     "name": "stdout",
     "output_type": "stream",
     "text": [
      "<class 'pandas.core.frame.DataFrame'>\n",
      "RangeIndex: 14204 entries, 0 to 14203\n",
      "Data columns (total 12 columns):\n",
      " #   Column                     Non-Null Count  Dtype   \n",
      "---  ------                     --------------  -----   \n",
      " 0   Item_Identifier            14204 non-null  category\n",
      " 1   Item_Weight                14204 non-null  float64 \n",
      " 2   Item_Fat_Content           14204 non-null  category\n",
      " 3   Item_Visibility            14204 non-null  float64 \n",
      " 4   Item_Type                  14204 non-null  category\n",
      " 5   Item_MRP                   14204 non-null  float64 \n",
      " 6   Outlet_Identifier          14204 non-null  category\n",
      " 7   Outlet_Establishment_Year  14204 non-null  int64   \n",
      " 8   Outlet_Size                14204 non-null  category\n",
      " 9   Outlet_Location_Type       14204 non-null  category\n",
      " 10  Outlet_Type                14204 non-null  category\n",
      " 11  Item_Outlet_Sales          14204 non-null  float64 \n",
      "dtypes: category(7), float64(4), int64(1)\n",
      "memory usage: 712.0 KB\n"
     ]
    }
   ],
   "source": [
    "# Converting non-numeric labeled column into categorical column\n",
    "\n",
    "store_data[\"Item_Identifier\"]=store_data[\"Item_Identifier\"].astype(\"category\")\n",
    "store_data[\"Item_Fat_Content\"]=store_data[\"Item_Fat_Content\"].astype(\"category\")\n",
    "store_data[\"Item_Type\"]=store_data[\"Item_Type\"].astype(\"category\")\n",
    "store_data[\"Outlet_Identifier\"]=store_data[\"Outlet_Identifier\"].astype(\"category\")\n",
    "store_data[\"Outlet_Size\"]=store_data[\"Outlet_Size\"].astype(\"category\")\n",
    "store_data[\"Outlet_Location_Type\"]=store_data[\"Outlet_Location_Type\"].astype(\"category\")\n",
    "store_data[\"Outlet_Type\"]=store_data[\"Outlet_Type\"].astype(\"category\")\n",
    "store_data.info()"
   ]
  },
  {
   "cell_type": "code",
   "execution_count": 34,
   "id": "8dbc4e1d",
   "metadata": {},
   "outputs": [],
   "source": [
    "# use label encoder to change categorical columns into numeric \n",
    "from sklearn.preprocessing import LabelEncoder\n",
    "label_encoder=LabelEncoder()"
   ]
  },
  {
   "cell_type": "code",
   "execution_count": 35,
   "id": "0fc279df",
   "metadata": {},
   "outputs": [],
   "source": [
    "store_data[\"Item_Identifier\"]= label_encoder.fit_transform(store_data[\"Item_Identifier\"])\n",
    "store_data[\"Item_Fat_Content\"]=label_encoder.fit_transform(store_data[\"Item_Fat_Content\"])\n",
    "store_data[\"Item_Type\"]= label_encoder.fit_transform(store_data[\"Item_Type\"])\n",
    "store_data[\"Outlet_Identifier\"]= label_encoder.fit_transform(store_data[\"Outlet_Identifier\"])\n",
    "store_data[\"Outlet_Size\"]= label_encoder.fit_transform(store_data[\"Outlet_Size\"])\n",
    "store_data[\"Outlet_Location_Type\"]= label_encoder.fit_transform(store_data[\"Outlet_Location_Type\"])\n",
    "store_data[\"Outlet_Type\"]= label_encoder.fit_transform(store_data[\"Outlet_Type\"])"
   ]
  },
  {
   "cell_type": "code",
   "execution_count": 36,
   "id": "559ca88c",
   "metadata": {},
   "outputs": [
    {
     "data": {
      "text/plain": [
       "Item_Identifier                int32\n",
       "Item_Weight                  float64\n",
       "Item_Fat_Content               int32\n",
       "Item_Visibility              float64\n",
       "Item_Type                      int32\n",
       "Item_MRP                     float64\n",
       "Outlet_Identifier              int32\n",
       "Outlet_Establishment_Year      int64\n",
       "Outlet_Size                    int32\n",
       "Outlet_Location_Type           int32\n",
       "Outlet_Type                    int32\n",
       "Item_Outlet_Sales            float64\n",
       "dtype: object"
      ]
     },
     "execution_count": 36,
     "metadata": {},
     "output_type": "execute_result"
    }
   ],
   "source": [
    "store_data.dtypes"
   ]
  },
  {
   "cell_type": "markdown",
   "id": "8d3b0b2b",
   "metadata": {},
   "source": [
    "- Now,all columns are changed into numeric data type"
   ]
  },
  {
   "cell_type": "markdown",
   "id": "54fc562f",
   "metadata": {},
   "source": [
    "# Data scaling"
   ]
  },
  {
   "cell_type": "code",
   "execution_count": 37,
   "id": "0024ae30",
   "metadata": {},
   "outputs": [],
   "source": [
    "from sklearn.preprocessing import MinMaxScaler\n",
    "scaler=MinMaxScaler()\n",
    "store_df_scaled=pd.DataFrame(scaler.fit_transform(store_data),columns=store_data.columns)"
   ]
  },
  {
   "cell_type": "code",
   "execution_count": 38,
   "id": "81aeb8c4",
   "metadata": {},
   "outputs": [
    {
     "data": {
      "text/html": [
       "<div>\n",
       "<style scoped>\n",
       "    .dataframe tbody tr th:only-of-type {\n",
       "        vertical-align: middle;\n",
       "    }\n",
       "\n",
       "    .dataframe tbody tr th {\n",
       "        vertical-align: top;\n",
       "    }\n",
       "\n",
       "    .dataframe thead th {\n",
       "        text-align: right;\n",
       "    }\n",
       "</style>\n",
       "<table border=\"1\" class=\"dataframe\">\n",
       "  <thead>\n",
       "    <tr style=\"text-align: right;\">\n",
       "      <th></th>\n",
       "      <th>Item_Identifier</th>\n",
       "      <th>Item_Weight</th>\n",
       "      <th>Item_Fat_Content</th>\n",
       "      <th>Item_Visibility</th>\n",
       "      <th>Item_Type</th>\n",
       "      <th>Item_MRP</th>\n",
       "      <th>Outlet_Identifier</th>\n",
       "      <th>Outlet_Establishment_Year</th>\n",
       "      <th>Outlet_Size</th>\n",
       "      <th>Outlet_Location_Type</th>\n",
       "      <th>Outlet_Type</th>\n",
       "      <th>Item_Outlet_Sales</th>\n",
       "    </tr>\n",
       "  </thead>\n",
       "  <tbody>\n",
       "    <tr>\n",
       "      <th>0</th>\n",
       "      <td>0.100128</td>\n",
       "      <td>0.282525</td>\n",
       "      <td>0.0</td>\n",
       "      <td>0.038399</td>\n",
       "      <td>0.266667</td>\n",
       "      <td>0.927507</td>\n",
       "      <td>1.000000</td>\n",
       "      <td>0.583333</td>\n",
       "      <td>0.5</td>\n",
       "      <td>0.0</td>\n",
       "      <td>0.333333</td>\n",
       "      <td>0.283587</td>\n",
       "    </tr>\n",
       "    <tr>\n",
       "      <th>1</th>\n",
       "      <td>0.005135</td>\n",
       "      <td>0.081274</td>\n",
       "      <td>1.0</td>\n",
       "      <td>0.048346</td>\n",
       "      <td>0.933333</td>\n",
       "      <td>0.072068</td>\n",
       "      <td>0.333333</td>\n",
       "      <td>1.000000</td>\n",
       "      <td>0.5</td>\n",
       "      <td>1.0</td>\n",
       "      <td>0.666667</td>\n",
       "      <td>0.031419</td>\n",
       "    </tr>\n",
       "    <tr>\n",
       "      <th>2</th>\n",
       "      <td>0.424904</td>\n",
       "      <td>0.770765</td>\n",
       "      <td>0.0</td>\n",
       "      <td>0.040593</td>\n",
       "      <td>0.666667</td>\n",
       "      <td>0.468288</td>\n",
       "      <td>1.000000</td>\n",
       "      <td>0.583333</td>\n",
       "      <td>0.5</td>\n",
       "      <td>0.0</td>\n",
       "      <td>0.333333</td>\n",
       "      <td>0.158115</td>\n",
       "    </tr>\n",
       "    <tr>\n",
       "      <th>3</th>\n",
       "      <td>0.719512</td>\n",
       "      <td>0.871986</td>\n",
       "      <td>1.0</td>\n",
       "      <td>0.218055</td>\n",
       "      <td>0.400000</td>\n",
       "      <td>0.640093</td>\n",
       "      <td>0.000000</td>\n",
       "      <td>0.541667</td>\n",
       "      <td>0.5</td>\n",
       "      <td>1.0</td>\n",
       "      <td>0.000000</td>\n",
       "      <td>0.053555</td>\n",
       "    </tr>\n",
       "    <tr>\n",
       "      <th>4</th>\n",
       "      <td>0.832478</td>\n",
       "      <td>0.260494</td>\n",
       "      <td>0.0</td>\n",
       "      <td>0.186950</td>\n",
       "      <td>0.600000</td>\n",
       "      <td>0.095805</td>\n",
       "      <td>0.111111</td>\n",
       "      <td>0.083333</td>\n",
       "      <td>0.0</td>\n",
       "      <td>1.0</td>\n",
       "      <td>0.333333</td>\n",
       "      <td>0.073651</td>\n",
       "    </tr>\n",
       "  </tbody>\n",
       "</table>\n",
       "</div>"
      ],
      "text/plain": [
       "   Item_Identifier  Item_Weight  Item_Fat_Content  Item_Visibility  Item_Type  \\\n",
       "0         0.100128     0.282525               0.0         0.038399   0.266667   \n",
       "1         0.005135     0.081274               1.0         0.048346   0.933333   \n",
       "2         0.424904     0.770765               0.0         0.040593   0.666667   \n",
       "3         0.719512     0.871986               1.0         0.218055   0.400000   \n",
       "4         0.832478     0.260494               0.0         0.186950   0.600000   \n",
       "\n",
       "   Item_MRP  Outlet_Identifier  Outlet_Establishment_Year  Outlet_Size  \\\n",
       "0  0.927507           1.000000                   0.583333          0.5   \n",
       "1  0.072068           0.333333                   1.000000          0.5   \n",
       "2  0.468288           1.000000                   0.583333          0.5   \n",
       "3  0.640093           0.000000                   0.541667          0.5   \n",
       "4  0.095805           0.111111                   0.083333          0.0   \n",
       "\n",
       "   Outlet_Location_Type  Outlet_Type  Item_Outlet_Sales  \n",
       "0                   0.0     0.333333           0.283587  \n",
       "1                   1.0     0.666667           0.031419  \n",
       "2                   0.0     0.333333           0.158115  \n",
       "3                   1.0     0.000000           0.053555  \n",
       "4                   1.0     0.333333           0.073651  "
      ]
     },
     "execution_count": 38,
     "metadata": {},
     "output_type": "execute_result"
    }
   ],
   "source": [
    "store_df_scaled.head()"
   ]
  },
  {
   "cell_type": "markdown",
   "id": "686cec89",
   "metadata": {},
   "source": [
    "- Heatmap of correlation between variables"
   ]
  },
  {
   "cell_type": "code",
   "execution_count": 39,
   "id": "f25895ad",
   "metadata": {},
   "outputs": [
    {
     "data": {
      "image/png": "[encoded data removed]",
      "text/plain": [
       "<Figure size 1080x504 with 2 Axes>"
      ]
     },
     "metadata": {
      "needs_background": "light"
     },
     "output_type": "display_data"
    }
   ],
   "source": [
    "corr=store_df_scaled.corr()\n",
    "plt.figure(figsize=(15,7))\n",
    "hm=sns.heatmap(corr,annot=True,fmt=\".1f\",cbar=True,cmap=\"inferno_r\")\n",
    "hm.set(title=\"Correlation of Store Data\")\n",
    "plt.show()"
   ]
  },
  {
   "cell_type": "markdown",
   "id": "8f795a28",
   "metadata": {},
   "source": [
    "- Outlet_Type and Item_MRP have a good positive correlation with Item_Outlet_sales"
   ]
  },
  {
   "cell_type": "markdown",
   "id": "ee3299c1",
   "metadata": {},
   "source": [
    "# Splitting Data"
   ]
  },
  {
   "cell_type": "code",
   "execution_count": 40,
   "id": "fab265b0",
   "metadata": {},
   "outputs": [],
   "source": [
    "X=store_df_scaled.drop(columns=\"Item_Outlet_Sales\",axis=1) # X stores the independent variables(features)\n",
    "y=store_df_scaled[\"Item_Outlet_Sales\"]                     # y stores the dependent (target,label) variable"
   ]
  },
  {
   "cell_type": "code",
   "execution_count": 41,
   "id": "41f9c8c9",
   "metadata": {},
   "outputs": [
    {
     "data": {
      "text/plain": [
       "Item_Identifier              0\n",
       "Item_Weight                  0\n",
       "Item_Fat_Content             0\n",
       "Item_Visibility              0\n",
       "Item_Type                    0\n",
       "Item_MRP                     0\n",
       "Outlet_Identifier            0\n",
       "Outlet_Establishment_Year    0\n",
       "Outlet_Size                  0\n",
       "Outlet_Location_Type         0\n",
       "Outlet_Type                  0\n",
       "dtype: int64"
      ]
     },
     "execution_count": 41,
     "metadata": {},
     "output_type": "execute_result"
    }
   ],
   "source": [
    "X.isnull().sum()"
   ]
  },
  {
   "cell_type": "code",
   "execution_count": 42,
   "id": "013141c4",
   "metadata": {},
   "outputs": [
    {
     "data": {
      "text/plain": [
       "0        0.283587\n",
       "1        0.031419\n",
       "2        0.158115\n",
       "3        0.053555\n",
       "4        0.073651\n",
       "           ...   \n",
       "14199    0.164551\n",
       "14200    0.164551\n",
       "14201    0.164551\n",
       "14202    0.164551\n",
       "14203    0.164551\n",
       "Name: Item_Outlet_Sales, Length: 14204, dtype: float64"
      ]
     },
     "execution_count": 42,
     "metadata": {},
     "output_type": "execute_result"
    }
   ],
   "source": [
    "y"
   ]
  },
  {
   "cell_type": "code",
   "execution_count": 43,
   "id": "2382b431",
   "metadata": {},
   "outputs": [
    {
     "name": "stdout",
     "output_type": "stream",
     "text": [
      "size of X_training data  (11363, 11)\n",
      "size of X_test data   (2841, 11)\n",
      "size of y_train data  (11363,)\n",
      "size of y_test data  (2841,)\n"
     ]
    }
   ],
   "source": [
    "#splitting dataframe using train_test_split() builtin method\n",
    "X_train,X_test,y_train,y_test=train_test_split(X,y,test_size=0.2,random_state=42)\n",
    "print(\"size of X_training data \",X_train.shape)\n",
    "print(\"size of X_test data  \",X_test.shape)\n",
    "print(\"size of y_train data \",y_train.shape)\n",
    "print(\"size of y_test data \",y_test.shape)"
   ]
  },
  {
   "cell_type": "markdown",
   "id": "518eb691",
   "metadata": {},
   "source": [
    "# Linear Regression Model for all features"
   ]
  },
  {
   "cell_type": "code",
   "execution_count": 44,
   "id": "495facb5",
   "metadata": {},
   "outputs": [],
   "source": [
    "lr=LinearRegression() #Build the model\n"
   ]
  },
  {
   "cell_type": "code",
   "execution_count": 45,
   "id": "8b3efbbc",
   "metadata": {},
   "outputs": [
    {
     "data": {
      "text/plain": [
       "LinearRegression()"
      ]
     },
     "execution_count": 45,
     "metadata": {},
     "output_type": "execute_result"
    }
   ],
   "source": [
    "model1=lr.fit(X_train,y_train) # train the model\n",
    "model1"
   ]
  },
  {
   "cell_type": "code",
   "execution_count": 46,
   "id": "9ce8b90a",
   "metadata": {},
   "outputs": [
    {
     "data": {
      "text/plain": [
       "0.3059537865396351"
      ]
     },
     "execution_count": 46,
     "metadata": {},
     "output_type": "execute_result"
    }
   ],
   "source": [
    "r_sq1_lr=model1.score(X_train,y_train)\n",
    "r_sq1_lr"
   ]
  },
  {
   "cell_type": "code",
   "execution_count": 47,
   "id": "ba4ea118",
   "metadata": {},
   "outputs": [
    {
     "name": "stdout",
     "output_type": "stream",
     "text": [
      "Coefficient of determination (R^2)  0.3059537865396351\n",
      "intercept  0.04165183598534995\n",
      "slope [-0.00067841 -0.00182761  0.00315565 -0.03349251 -0.0043724   0.1730278\n",
      "  0.02569177 -0.00286471 -0.00373641 -0.00678338  0.11456871]\n"
     ]
    }
   ],
   "source": [
    "print(\"Coefficient of determination (R^2) \",r_sq1_lr)\n",
    "print(\"intercept \",model1.intercept_)\n",
    "print(\"slope\",model1.coef_ )"
   ]
  },
  {
   "cell_type": "code",
   "execution_count": 48,
   "id": "66919a81",
   "metadata": {},
   "outputs": [
    {
     "name": "stdout",
     "output_type": "stream",
     "text": [
      "predicted response  [0.21901562 0.21666659 0.19688767 ... 0.0365998  0.15442312 0.16161341]\n"
     ]
    }
   ],
   "source": [
    "y_pred =model1.predict(X_test)    # predict the model\n",
    "print(\"predicted response \",y_pred)"
   ]
  },
  {
   "cell_type": "code",
   "execution_count": 49,
   "id": "261616a1",
   "metadata": {},
   "outputs": [
    {
     "name": "stdout",
     "output_type": "stream",
     "text": [
      "MSE value   0.0067147509788736005 \n",
      "RMSE value   0.08194358412269749\n"
     ]
    }
   ],
   "source": [
    "from sklearn.metrics import mean_squared_error\n",
    "from sklearn.metrics import mean_absolute_error\n",
    "MSE1=mean_squared_error(y_test,y_pred)\n",
    "RMSE1=mean_squared_error(y_test,y_pred,squared = False)\n",
    "print(\"MSE value  \", MSE1, \"\\nRMSE value  \",  RMSE1)"
   ]
  },
  {
   "cell_type": "code",
   "execution_count": 50,
   "id": "d278d476",
   "metadata": {},
   "outputs": [
    {
     "name": "stdout",
     "output_type": "stream",
     "text": [
      "R^2 for testing data  0.28586019411573627\n"
     ]
    }
   ],
   "source": [
    "from sklearn.metrics import r2_score\n",
    "r_sq2_lr=r2_score(y_test,y_pred)\n",
    "print(\"R^2 for testing data \",r_sq2_lr)"
   ]
  },
  {
   "cell_type": "code",
   "execution_count": 52,
   "id": "2a48abc0",
   "metadata": {},
   "outputs": [
    {
     "data": {
      "text/html": [
       "<div>\n",
       "<style scoped>\n",
       "    .dataframe tbody tr th:only-of-type {\n",
       "        vertical-align: middle;\n",
       "    }\n",
       "\n",
       "    .dataframe tbody tr th {\n",
       "        vertical-align: top;\n",
       "    }\n",
       "\n",
       "    .dataframe thead th {\n",
       "        text-align: right;\n",
       "    }\n",
       "</style>\n",
       "<table border=\"1\" class=\"dataframe\">\n",
       "  <thead>\n",
       "    <tr style=\"text-align: right;\">\n",
       "      <th></th>\n",
       "      <th>Item_Identifier</th>\n",
       "      <th>Item_Weight</th>\n",
       "      <th>Item_Fat_Content</th>\n",
       "      <th>Item_Visibility</th>\n",
       "      <th>Item_Type</th>\n",
       "      <th>Item_MRP</th>\n",
       "      <th>Outlet_Identifier</th>\n",
       "      <th>Outlet_Establishment_Year</th>\n",
       "      <th>Outlet_Size</th>\n",
       "      <th>Outlet_Location_Type</th>\n",
       "      <th>Outlet_Type</th>\n",
       "    </tr>\n",
       "  </thead>\n",
       "  <tbody>\n",
       "    <tr>\n",
       "      <th>0</th>\n",
       "      <td>0.100128</td>\n",
       "      <td>0.282525</td>\n",
       "      <td>0.0</td>\n",
       "      <td>0.038399</td>\n",
       "      <td>0.266667</td>\n",
       "      <td>0.927507</td>\n",
       "      <td>1.000000</td>\n",
       "      <td>0.583333</td>\n",
       "      <td>0.5</td>\n",
       "      <td>0.0</td>\n",
       "      <td>0.333333</td>\n",
       "    </tr>\n",
       "    <tr>\n",
       "      <th>1</th>\n",
       "      <td>0.005135</td>\n",
       "      <td>0.081274</td>\n",
       "      <td>1.0</td>\n",
       "      <td>0.048346</td>\n",
       "      <td>0.933333</td>\n",
       "      <td>0.072068</td>\n",
       "      <td>0.333333</td>\n",
       "      <td>1.000000</td>\n",
       "      <td>0.5</td>\n",
       "      <td>1.0</td>\n",
       "      <td>0.666667</td>\n",
       "    </tr>\n",
       "    <tr>\n",
       "      <th>2</th>\n",
       "      <td>0.424904</td>\n",
       "      <td>0.770765</td>\n",
       "      <td>0.0</td>\n",
       "      <td>0.040593</td>\n",
       "      <td>0.666667</td>\n",
       "      <td>0.468288</td>\n",
       "      <td>1.000000</td>\n",
       "      <td>0.583333</td>\n",
       "      <td>0.5</td>\n",
       "      <td>0.0</td>\n",
       "      <td>0.333333</td>\n",
       "    </tr>\n",
       "    <tr>\n",
       "      <th>3</th>\n",
       "      <td>0.719512</td>\n",
       "      <td>0.871986</td>\n",
       "      <td>1.0</td>\n",
       "      <td>0.218055</td>\n",
       "      <td>0.400000</td>\n",
       "      <td>0.640093</td>\n",
       "      <td>0.000000</td>\n",
       "      <td>0.541667</td>\n",
       "      <td>0.5</td>\n",
       "      <td>1.0</td>\n",
       "      <td>0.000000</td>\n",
       "    </tr>\n",
       "    <tr>\n",
       "      <th>4</th>\n",
       "      <td>0.832478</td>\n",
       "      <td>0.260494</td>\n",
       "      <td>0.0</td>\n",
       "      <td>0.186950</td>\n",
       "      <td>0.600000</td>\n",
       "      <td>0.095805</td>\n",
       "      <td>0.111111</td>\n",
       "      <td>0.083333</td>\n",
       "      <td>0.0</td>\n",
       "      <td>1.0</td>\n",
       "      <td>0.333333</td>\n",
       "    </tr>\n",
       "    <tr>\n",
       "      <th>...</th>\n",
       "      <td>...</td>\n",
       "      <td>...</td>\n",
       "      <td>...</td>\n",
       "      <td>...</td>\n",
       "      <td>...</td>\n",
       "      <td>...</td>\n",
       "      <td>...</td>\n",
       "      <td>...</td>\n",
       "      <td>...</td>\n",
       "      <td>...</td>\n",
       "      <td>...</td>\n",
       "    </tr>\n",
       "    <tr>\n",
       "      <th>14199</th>\n",
       "      <td>0.149551</td>\n",
       "      <td>0.353974</td>\n",
       "      <td>1.0</td>\n",
       "      <td>0.030546</td>\n",
       "      <td>0.866667</td>\n",
       "      <td>0.467004</td>\n",
       "      <td>0.888889</td>\n",
       "      <td>0.500000</td>\n",
       "      <td>1.0</td>\n",
       "      <td>0.0</td>\n",
       "      <td>0.333333</td>\n",
       "    </tr>\n",
       "    <tr>\n",
       "      <th>14200</th>\n",
       "      <td>0.197689</td>\n",
       "      <td>0.181304</td>\n",
       "      <td>1.0</td>\n",
       "      <td>0.429216</td>\n",
       "      <td>1.000000</td>\n",
       "      <td>0.585126</td>\n",
       "      <td>0.333333</td>\n",
       "      <td>1.000000</td>\n",
       "      <td>0.5</td>\n",
       "      <td>1.0</td>\n",
       "      <td>0.666667</td>\n",
       "    </tr>\n",
       "    <tr>\n",
       "      <th>14201</th>\n",
       "      <td>0.915276</td>\n",
       "      <td>0.324204</td>\n",
       "      <td>0.0</td>\n",
       "      <td>0.215364</td>\n",
       "      <td>0.533333</td>\n",
       "      <td>0.371199</td>\n",
       "      <td>0.777778</td>\n",
       "      <td>0.708333</td>\n",
       "      <td>1.0</td>\n",
       "      <td>0.5</td>\n",
       "      <td>0.333333</td>\n",
       "    </tr>\n",
       "    <tr>\n",
       "      <th>14202</th>\n",
       "      <td>0.334403</td>\n",
       "      <td>0.639774</td>\n",
       "      <td>1.0</td>\n",
       "      <td>0.188211</td>\n",
       "      <td>0.200000</td>\n",
       "      <td>0.778154</td>\n",
       "      <td>0.222222</td>\n",
       "      <td>0.916667</td>\n",
       "      <td>1.0</td>\n",
       "      <td>0.5</td>\n",
       "      <td>0.333333</td>\n",
       "    </tr>\n",
       "    <tr>\n",
       "      <th>14203</th>\n",
       "      <td>0.639923</td>\n",
       "      <td>0.294433</td>\n",
       "      <td>1.0</td>\n",
       "      <td>0.311393</td>\n",
       "      <td>0.200000</td>\n",
       "      <td>0.205884</td>\n",
       "      <td>0.777778</td>\n",
       "      <td>0.708333</td>\n",
       "      <td>1.0</td>\n",
       "      <td>0.5</td>\n",
       "      <td>0.333333</td>\n",
       "    </tr>\n",
       "  </tbody>\n",
       "</table>\n",
       "<p>14204 rows × 11 columns</p>\n",
       "</div>"
      ],
      "text/plain": [
       "       Item_Identifier  Item_Weight  Item_Fat_Content  Item_Visibility  \\\n",
       "0             0.100128     0.282525               0.0         0.038399   \n",
       "1             0.005135     0.081274               1.0         0.048346   \n",
       "2             0.424904     0.770765               0.0         0.040593   \n",
       "3             0.719512     0.871986               1.0         0.218055   \n",
       "4             0.832478     0.260494               0.0         0.186950   \n",
       "...                ...          ...               ...              ...   \n",
       "14199         0.149551     0.353974               1.0         0.030546   \n",
       "14200         0.197689     0.181304               1.0         0.429216   \n",
       "14201         0.915276     0.324204               0.0         0.215364   \n",
       "14202         0.334403     0.639774               1.0         0.188211   \n",
       "14203         0.639923     0.294433               1.0         0.311393   \n",
       "\n",
       "       Item_Type  Item_MRP  Outlet_Identifier  Outlet_Establishment_Year  \\\n",
       "0       0.266667  0.927507           1.000000                   0.583333   \n",
       "1       0.933333  0.072068           0.333333                   1.000000   \n",
       "2       0.666667  0.468288           1.000000                   0.583333   \n",
       "3       0.400000  0.640093           0.000000                   0.541667   \n",
       "4       0.600000  0.095805           0.111111                   0.083333   \n",
       "...          ...       ...                ...                        ...   \n",
       "14199   0.866667  0.467004           0.888889                   0.500000   \n",
       "14200   1.000000  0.585126           0.333333                   1.000000   \n",
       "14201   0.533333  0.371199           0.777778                   0.708333   \n",
       "14202   0.200000  0.778154           0.222222                   0.916667   \n",
       "14203   0.200000  0.205884           0.777778                   0.708333   \n",
       "\n",
       "       Outlet_Size  Outlet_Location_Type  Outlet_Type  \n",
       "0              0.5                   0.0     0.333333  \n",
       "1              0.5                   1.0     0.666667  \n",
       "2              0.5                   0.0     0.333333  \n",
       "3              0.5                   1.0     0.000000  \n",
       "4              0.0                   1.0     0.333333  \n",
       "...            ...                   ...          ...  \n",
       "14199          1.0                   0.0     0.333333  \n",
       "14200          0.5                   1.0     0.666667  \n",
       "14201          1.0                   0.5     0.333333  \n",
       "14202          1.0                   0.5     0.333333  \n",
       "14203          1.0                   0.5     0.333333  \n",
       "\n",
       "[14204 rows x 11 columns]"
      ]
     },
     "execution_count": 52,
     "metadata": {},
     "output_type": "execute_result"
    }
   ],
   "source": [
    "X"
   ]
  },
  {
   "cell_type": "markdown",
   "id": "3e578f55",
   "metadata": {},
   "source": [
    "# Decision Tree Regressor"
   ]
  },
  {
   "cell_type": "code",
   "execution_count": 55,
   "id": "9f0234ba",
   "metadata": {},
   "outputs": [],
   "source": [
    "def rmsedt(score):\n",
    "    rmsedt=np.sqrt(-score)\n",
    "    print(f'rmse= {\"{:.2f}\".format(rmsedt)}')"
   ]
  },
  {
   "cell_type": "code",
   "execution_count": 56,
   "id": "ec6d1869",
   "metadata": {},
   "outputs": [
    {
     "name": "stdout",
     "output_type": "stream",
     "text": [
      "For max depth  1\n",
      "rmse= 0.10\n",
      "For max depth  2\n",
      "rmse= 0.09\n",
      "For max depth  3\n",
      "rmse= 0.09\n",
      "For max depth  4\n",
      "rmse= 0.09\n",
      "For max depth  5\n",
      "rmse= 0.09\n",
      "For max depth  6\n",
      "rmse= 0.09\n",
      "For max depth  7\n",
      "rmse= 0.09\n",
      "For max depth  8\n",
      "rmse= 0.09\n",
      "For max depth  9\n",
      "rmse= 0.09\n",
      "For max depth  10\n",
      "rmse= 0.10\n",
      "For max depth  11\n",
      "rmse= 0.10\n",
      "For max depth  12\n",
      "rmse= 0.10\n",
      "For max depth  13\n",
      "rmse= 0.10\n",
      "For max depth  14\n",
      "rmse= 0.11\n",
      "For max depth  15\n",
      "rmse= 0.11\n",
      "For max depth  17\n",
      "rmse= 0.11\n",
      "For max depth  18\n",
      "rmse= 0.12\n"
     ]
    }
   ],
   "source": [
    "from sklearn.model_selection import KFold, StratifiedKFold, cross_val_score\n",
    "from sklearn import  tree\n",
    "kf=KFold(n_splits=5,shuffle=False,random_state=None)\n",
    "max_depth=[1,2,3,4,5,6,7,8,9,10,11,12,13,14,15,17,18] #hyperparameter tuning\n",
    "\n",
    "for val in max_depth:\n",
    "    score=cross_val_score(tree.DecisionTreeRegressor(max_depth=val,random_state=42),X,y,cv=kf,scoring=\"neg_mean_squared_error\")\n",
    "    print(f'For max depth  {val}')\n",
    "    rmsedt(score.mean())"
   ]
  },
  {
   "cell_type": "code",
   "execution_count": 57,
   "id": "dd97c9b7",
   "metadata": {},
   "outputs": [],
   "source": [
    "from sklearn.tree import DecisionTreeRegressor\n",
    "from sklearn.model_selection import GridSearchCV, cross_val_score, cross_val_predict, train_test_split\n",
    "from sklearn import tree"
   ]
  },
  {
   "cell_type": "code",
   "execution_count": 58,
   "id": "abcdba2c",
   "metadata": {},
   "outputs": [
    {
     "name": "stdout",
     "output_type": "stream",
     "text": [
      "R-Squared on train dataset   0.3534\n",
      "R-Squared on test dataset   0.3522\n"
     ]
    }
   ],
   "source": [
    "dtm=DecisionTreeRegressor(max_depth=4,\n",
    "                           min_samples_split=5,\n",
    "                           max_leaf_nodes=10)\n",
    "\n",
    "dtm.fit(X_train,y_train)\n",
    "print(\"R-Squared on train dataset  \",round(dtm.score(X_train,y_train),4))\n",
    "\n",
    "dtm.fit(X_test,y_test)\n",
    "print(\"R-Squared on test dataset  \",round(dtm.score(X_test,y_test),4))"
   ]
  },
  {
   "cell_type": "code",
   "execution_count": 59,
   "id": "0fd1f348",
   "metadata": {},
   "outputs": [
    {
     "data": {
      "text/plain": [
       "array([0.20063222, 0.19246384, 0.19246384, ..., 0.10069455, 0.139998  ,\n",
       "       0.139998  ])"
      ]
     },
     "execution_count": 59,
     "metadata": {},
     "output_type": "execute_result"
    }
   ],
   "source": [
    "y_pred_d=dtm.predict(X_test) \n",
    "y_pred_d"
   ]
  },
  {
   "cell_type": "code",
   "execution_count": 60,
   "id": "378a2b2d",
   "metadata": {},
   "outputs": [
    {
     "data": {
      "text/plain": [
       "0.006091225721915404"
      ]
     },
     "execution_count": 60,
     "metadata": {},
     "output_type": "execute_result"
    }
   ],
   "source": [
    "MSE_dt=mean_squared_error(y_test,y_pred_d)\n",
    "MSE_dt"
   ]
  },
  {
   "cell_type": "code",
   "execution_count": 61,
   "id": "635b7504",
   "metadata": {},
   "outputs": [
    {
     "data": {
      "text/plain": [
       "0.07804630498566478"
      ]
     },
     "execution_count": 61,
     "metadata": {},
     "output_type": "execute_result"
    }
   ],
   "source": [
    "RMSE_dt=np.sqrt(MSE_dt)\n",
    "RMSE_dt"
   ]
  },
  {
   "cell_type": "code",
   "execution_count": 62,
   "id": "6679168e",
   "metadata": {},
   "outputs": [
    {
     "data": {
      "text/plain": [
       "0.3189673385627856"
      ]
     },
     "execution_count": 62,
     "metadata": {},
     "output_type": "execute_result"
    }
   ],
   "source": [
    "r_sq1_dt=dtm.score(X_train,y_train)\n",
    "r_sq1_dt"
   ]
  },
  {
   "cell_type": "code",
   "execution_count": 63,
   "id": "90a75314",
   "metadata": {},
   "outputs": [
    {
     "name": "stdout",
     "output_type": "stream",
     "text": [
      "0.28586019411573627\n"
     ]
    }
   ],
   "source": [
    "r_sq2_dt=r2_score(y_test,y_pred)\n",
    "print(r_sq2_dt)"
   ]
  },
  {
   "cell_type": "code",
   "execution_count": 64,
   "id": "9401cd71",
   "metadata": {},
   "outputs": [
    {
     "data": {
      "image/png": "[encoded data removed]",
      "text/plain": [
       "<Figure size 1800x1200 with 1 Axes>"
      ]
     },
     "metadata": {
      "needs_background": "light"
     },
     "output_type": "display_data"
    }
   ],
   "source": [
    "fig, axes=plt.subplots(dpi=300)\n",
    "tree.plot_tree(dtm,filled=True);"
   ]
  },
  {
   "cell_type": "markdown",
   "id": "23ffad14",
   "metadata": {},
   "source": [
    "# Random Forest regressor"
   ]
  },
  {
   "cell_type": "code",
   "execution_count": 69,
   "id": "48a295e1",
   "metadata": {},
   "outputs": [],
   "source": [
    "from sklearn.ensemble import RandomForestRegressor\n",
    "from sklearn.model_selection import GridSearchCV, cross_val_score, cross_val_predict, train_test_split, KFold\n",
    "from statistics import mean\n",
    "import warnings\n",
    "warnings.filterwarnings(\"ignore\")"
   ]
  },
  {
   "cell_type": "code",
   "execution_count": 70,
   "id": "8468b2d2",
   "metadata": {},
   "outputs": [],
   "source": [
    "rf = RandomForestRegressor(random_state = 13, n_jobs = -1)"
   ]
  },
  {
   "cell_type": "code",
   "execution_count": 71,
   "id": "eefab381",
   "metadata": {},
   "outputs": [],
   "source": [
    "params = {\n",
    "    'max_depth': [2,5,10],\n",
    "    'min_samples_leaf': [5,10],\n",
    "    'n_estimators': [10,25]\n",
    "}"
   ]
  },
  {
   "cell_type": "code",
   "execution_count": 72,
   "id": "0b378d3d",
   "metadata": {},
   "outputs": [],
   "source": [
    "grid_search = GridSearchCV(estimator = rf,\n",
    "                           param_grid = params,\n",
    "                           cv = 4,\n",
    "                           n_jobs = -1, \n",
    "                           verbose = 1, \n",
    "                           scoring = \"neg_root_mean_squared_error\")"
   ]
  },
  {
   "cell_type": "code",
   "execution_count": 73,
   "id": "e70fa744",
   "metadata": {},
   "outputs": [
    {
     "name": "stdout",
     "output_type": "stream",
     "text": [
      "Fitting 4 folds for each of 12 candidates, totalling 48 fits\n"
     ]
    },
    {
     "data": {
      "text/plain": [
       "GridSearchCV(cv=4, estimator=RandomForestRegressor(n_jobs=-1, random_state=13),\n",
       "             n_jobs=-1,\n",
       "             param_grid={'max_depth': [2, 5, 10], 'min_samples_leaf': [5, 10],\n",
       "                         'n_estimators': [10, 25]},\n",
       "             scoring='neg_root_mean_squared_error', verbose=1)"
      ]
     },
     "execution_count": 73,
     "metadata": {},
     "output_type": "execute_result"
    }
   ],
   "source": [
    "grid_search.fit(X_train, y_train)"
   ]
  },
  {
   "cell_type": "code",
   "execution_count": 74,
   "id": "166cb967",
   "metadata": {},
   "outputs": [
    {
     "data": {
      "text/plain": [
       "-0.08196007090216464"
      ]
     },
     "execution_count": 74,
     "metadata": {},
     "output_type": "execute_result"
    }
   ],
   "source": [
    "grid_search.best_score_"
   ]
  },
  {
   "cell_type": "code",
   "execution_count": 75,
   "id": "81fb9b93",
   "metadata": {},
   "outputs": [
    {
     "data": {
      "text/plain": [
       "RandomForestRegressor(max_depth=5, min_samples_leaf=10, n_estimators=25,\n",
       "                      n_jobs=-1, random_state=13)"
      ]
     },
     "execution_count": 75,
     "metadata": {},
     "output_type": "execute_result"
    }
   ],
   "source": [
    "rf_best = grid_search.best_estimator_\n",
    "rf_best"
   ]
  },
  {
   "cell_type": "code",
   "execution_count": 76,
   "id": "51286c4a",
   "metadata": {},
   "outputs": [],
   "source": [
    "rfr=rf.fit(X_train, y_train)"
   ]
  },
  {
   "cell_type": "code",
   "execution_count": 77,
   "id": "9996b983",
   "metadata": {},
   "outputs": [],
   "source": [
    "y_pred_rf = rfr.predict(X_test)"
   ]
  },
  {
   "cell_type": "code",
   "execution_count": 78,
   "id": "6ca423c1",
   "metadata": {},
   "outputs": [
    {
     "data": {
      "text/plain": [
       "0.007066927442590275"
      ]
     },
     "execution_count": 78,
     "metadata": {},
     "output_type": "execute_result"
    }
   ],
   "source": [
    "MSE_rf = mean_squared_error(y_test, y_pred_rf)\n",
    "MSE_rf"
   ]
  },
  {
   "cell_type": "code",
   "execution_count": 79,
   "id": "79d4a6fc",
   "metadata": {},
   "outputs": [
    {
     "name": "stdout",
     "output_type": "stream",
     "text": [
      "\n",
      "random forest MSE value   0.007066927442590275 \n",
      "RMSE value   0.08406501913751209\n"
     ]
    }
   ],
   "source": [
    "RMSE_rf =np.sqrt(MSE_rf)\n",
    "print(\"\\nrandom forest MSE value  \", MSE_rf, \"\\nRMSE value  \",  RMSE_rf)"
   ]
  },
  {
   "cell_type": "code",
   "execution_count": 80,
   "id": "da33b914",
   "metadata": {},
   "outputs": [
    {
     "data": {
      "text/plain": [
       "0.8996818181349463"
      ]
     },
     "execution_count": 80,
     "metadata": {},
     "output_type": "execute_result"
    }
   ],
   "source": [
    "r_sq1_rf = rfr.score(X_train, y_train)\n",
    "r_sq1_rf"
   ]
  },
  {
   "cell_type": "code",
   "execution_count": 81,
   "id": "54264e52",
   "metadata": {},
   "outputs": [
    {
     "name": "stdout",
     "output_type": "stream",
     "text": [
      "0.28586019411573627\n"
     ]
    }
   ],
   "source": [
    "r_sq2_rf=r2_score(y_test,y_pred)\n",
    "print(r_sq2_rf)"
   ]
  },
  {
   "cell_type": "markdown",
   "id": "949d3834",
   "metadata": {},
   "source": [
    "# Adaboost Regressor"
   ]
  },
  {
   "cell_type": "code",
   "execution_count": 82,
   "id": "4ef5f785",
   "metadata": {},
   "outputs": [],
   "source": [
    "from sklearn.ensemble import AdaBoostRegressor\n",
    "from sklearn.model_selection import RepeatedStratifiedKFold"
   ]
  },
  {
   "cell_type": "code",
   "execution_count": 83,
   "id": "69a040ae",
   "metadata": {},
   "outputs": [
    {
     "name": "stdout",
     "output_type": "stream",
     "text": [
      "r2-Score: mean:(-0.008), min:(-0.009), max:(-0.008), std:(0.000)\n"
     ]
    },
    {
     "data": {
      "text/plain": [
       "0.8246549620931423"
      ]
     },
     "execution_count": 83,
     "metadata": {},
     "output_type": "execute_result"
    }
   ],
   "source": [
    "# define the model\n",
    "model_ada = AdaBoostRegressor()\n",
    "\n",
    "# evaluate the model\n",
    "cv = KFold(n_splits = 5, shuffle = True, random_state = 1)\n",
    "n_scores = cross_val_score(model_ada, X, y, scoring = 'neg_mean_squared_error', cv = cv, n_jobs = -1, error_score = 'raise')\n",
    "\n",
    "# report performance\n",
    "print('r2-Score: mean:(%.3f), min:(%.3f), max:(%.3f), std:(%.3f)' % (mean(n_scores), min(n_scores), max(n_scores), np.std(n_scores)))\n",
    "mean(-n_scores)*100"
   ]
  },
  {
   "cell_type": "code",
   "execution_count": 84,
   "id": "24086904",
   "metadata": {},
   "outputs": [
    {
     "name": "stdout",
     "output_type": "stream",
     "text": [
      "MSE: 0.007670244195517034\n",
      "RMSE:  0.08757993032377358\n",
      "SCORE: 0.25359412271953674\n"
     ]
    }
   ],
   "source": [
    "model1_ada=model_ada.fit(X_train,y_train)\n",
    "ada_score=model_ada.score(X_train, y_train)\n",
    "y_pred_adaboost = model_ada.predict(X_test)\n",
    "MSE_ada = mean_squared_error(y_test, y_pred_adaboost)\n",
    "RMSE_ada = np.sqrt(MSE_ada)\n",
    "print(\"MSE:\",MSE_ada)\n",
    "print(\"RMSE: \",RMSE_ada)\n",
    "print('SCORE:',ada_score)"
   ]
  },
  {
   "cell_type": "code",
   "execution_count": 85,
   "id": "015d6f40",
   "metadata": {},
   "outputs": [
    {
     "data": {
      "text/plain": [
       "0.25359412271953674"
      ]
     },
     "execution_count": 85,
     "metadata": {},
     "output_type": "execute_result"
    }
   ],
   "source": [
    "r_sq1_ada = model1_ada.score(X_train, y_train)\n",
    "r_sq1_ada"
   ]
  },
  {
   "cell_type": "code",
   "execution_count": 86,
   "id": "c70d4c31",
   "metadata": {},
   "outputs": [
    {
     "data": {
      "text/plain": [
       "0.28586019411573627"
      ]
     },
     "execution_count": 86,
     "metadata": {},
     "output_type": "execute_result"
    }
   ],
   "source": [
    "r_sq2_ada=r2_score(y_test,y_pred)\n",
    "r_sq2_ada"
   ]
  },
  {
   "cell_type": "code",
   "execution_count": 87,
   "id": "ab9541be",
   "metadata": {},
   "outputs": [
    {
     "data": {
      "text/html": [
       "<div>\n",
       "<style scoped>\n",
       "    .dataframe tbody tr th:only-of-type {\n",
       "        vertical-align: middle;\n",
       "    }\n",
       "\n",
       "    .dataframe tbody tr th {\n",
       "        vertical-align: top;\n",
       "    }\n",
       "\n",
       "    .dataframe thead th {\n",
       "        text-align: right;\n",
       "    }\n",
       "</style>\n",
       "<table border=\"1\" class=\"dataframe\">\n",
       "  <thead>\n",
       "    <tr style=\"text-align: right;\">\n",
       "      <th></th>\n",
       "      <th>R-square(train)</th>\n",
       "      <th>R-square(test)</th>\n",
       "      <th>RMSE</th>\n",
       "    </tr>\n",
       "  </thead>\n",
       "  <tbody>\n",
       "    <tr>\n",
       "      <th>Linear Regression</th>\n",
       "      <td>0.305954</td>\n",
       "      <td>0.28586</td>\n",
       "      <td>0.081944</td>\n",
       "    </tr>\n",
       "    <tr>\n",
       "      <th>Decision Tree</th>\n",
       "      <td>0.318967</td>\n",
       "      <td>0.28586</td>\n",
       "      <td>0.078046</td>\n",
       "    </tr>\n",
       "    <tr>\n",
       "      <th>Random Forest Regressor</th>\n",
       "      <td>0.899682</td>\n",
       "      <td>0.28586</td>\n",
       "      <td>0.084065</td>\n",
       "    </tr>\n",
       "    <tr>\n",
       "      <th>Adaboost Regressor</th>\n",
       "      <td>0.253594</td>\n",
       "      <td>0.28586</td>\n",
       "      <td>0.087580</td>\n",
       "    </tr>\n",
       "  </tbody>\n",
       "</table>\n",
       "</div>"
      ],
      "text/plain": [
       "                         R-square(train)  R-square(test)      RMSE\n",
       "Linear Regression               0.305954         0.28586  0.081944\n",
       "Decision Tree                   0.318967         0.28586  0.078046\n",
       "Random Forest Regressor         0.899682         0.28586  0.084065\n",
       "Adaboost Regressor              0.253594         0.28586  0.087580"
      ]
     },
     "execution_count": 87,
     "metadata": {},
     "output_type": "execute_result"
    }
   ],
   "source": [
    "dff=pd.DataFrame({\"R-square(train)\":[r_sq1_lr,r_sq1_dt,r_sq1_rf,r_sq1_ada],\"R-square(test)\":[r_sq2_lr,r_sq2_dt,r_sq2_rf,r_sq2_ada],\"RMSE\":[RMSE1,RMSE_dt,RMSE_rf,RMSE_ada]},index=[\"Linear Regression\",\"Decision Tree\",\"Random Forest Regressor\",\"Adaboost Regressor\"])\n",
    "dff"
   ]
  },
  {
   "cell_type": "markdown",
   "id": "2b9311f8",
   "metadata": {},
   "source": [
    "RMSE for Linear Regression =0.081 RMSE for Decision Tree Regression =0.078 RMSE for Random Forest Regression = 0.084 RMSE for Adaboost Regression =0.087\n",
    "\n",
    "A low RMSE value indicates that the simulated and observed data are close to each other showing a better accuracy. Thus lower the RMSE better is model performance.\n",
    "\n",
    "so from above RMSE values from different Models we can say that Decision Tree Regression has the Lowest RMSE value among all so the Decision Tree Regression is giving better performance among all."
   ]
  },
  {
   "cell_type": "code",
   "execution_count": null,
   "id": "fecff4be",
   "metadata": {},
   "outputs": [],
   "source": []
  }
 ],
 "metadata": {
  "kernelspec": {
   "display_name": "Python 3 (ipykernel)",
   "language": "python",
   "name": "python3"
  },
  "language_info": {
   "codemirror_mode": {
    "name": "ipython",
    "version": 3
   },
   "file_extension": ".py",
   "mimetype": "text/x-python",
   "name": "python",
   "nbconvert_exporter": "python",
   "pygments_lexer": "ipython3",
   "version": "3.9.12"
  }
 },
 "nbformat": 4,
 "nbformat_minor": 5
}
